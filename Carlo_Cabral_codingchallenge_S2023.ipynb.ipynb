{
 "cells": [
  {
   "cell_type": "markdown",
   "metadata": {
    "application/vnd.databricks.v1+cell": {
     "inputWidgets": {},
     "nuid": "189601c3-be27-4da5-8cc7-f0b6f87b6102",
     "showTitle": false,
     "title": ""
    }
   },
   "source": [
    "# ISMT E-111 Coding Challenge 2023\n",
    "### Due: 2023-05-02 8pm ET\n",
    "#### Make sure to include any relevant code when providing all answers.\n",
    "Enter your code into *this* notebook **AND** enter your name in the following cell\n",
    "\n",
    "#### Always show your work, and if there is a question being asked be sure to answer it.\n",
    "You can answer with a comment, print statement or markdown cell <br>(remember a comment is preceded by a hash symbol `#here is my comment`)\n",
    "\n",
    "\n",
    "### Challenge is out of 150 points \n",
    "  * **100 points for the main challenge**\n",
    "  * **50 bonus points for extra credit**\n",
    " \n",
    "#### Notes\n",
    "* Dont worry about missing values, they're addressed in the Extra Credit portion\n",
    "\n",
    "#### Submission\n",
    "* Send this completed .ipynb (with all cells run and outputs visible) to ujas_shah@g.harvard.edu with your first and last name in the filename (e.g., `ujas_shah_codingchallenge_s2023.ipynb`) **AND** also submit a pull request with the updated notebook on to the repository.\n",
    "* If you cant find the location of this notebook you can run the following to find your notebook:<br> \n",
    "`import os`<br>\n",
    "`print(os.getcwd())`<br>\n",
    "Drag and drop that .ipynb file into your email"
   ]
  },
  {
   "cell_type": "code",
   "execution_count": 1,
   "metadata": {},
   "outputs": [],
   "source": [
    "#name: Carlo Cabral"
   ]
  },
  {
   "cell_type": "markdown",
   "metadata": {
    "application/vnd.databricks.v1+cell": {
     "inputWidgets": {},
     "nuid": "d9e01958-0f72-4095-a493-f0884466db78",
     "showTitle": false,
     "title": ""
    }
   },
   "source": [
    "### 1. Load your Data and Take a Look\n",
    "\n",
    "&nbsp;&nbsp;&nbsp;&nbsp;&nbsp;&nbsp;**a.** **(`10 pts`)** Load the training data (found in the same github repo as this notebook) into this notebook using Pandas. \n",
    "\n",
    "&nbsp;&nbsp;&nbsp;&nbsp;&nbsp;&nbsp;**b.** **(`5 pts`)** Show the first 10 lines of the data."
   ]
  },
  {
   "cell_type": "code",
   "execution_count": 2,
   "metadata": {},
   "outputs": [],
   "source": [
    "import pandas as pd"
   ]
  },
  {
   "cell_type": "code",
   "execution_count": 3,
   "metadata": {},
   "outputs": [
    {
     "data": {
      "text/html": [
       "<div>\n",
       "<style scoped>\n",
       "    .dataframe tbody tr th:only-of-type {\n",
       "        vertical-align: middle;\n",
       "    }\n",
       "\n",
       "    .dataframe tbody tr th {\n",
       "        vertical-align: top;\n",
       "    }\n",
       "\n",
       "    .dataframe thead th {\n",
       "        text-align: right;\n",
       "    }\n",
       "</style>\n",
       "<table border=\"1\" class=\"dataframe\">\n",
       "  <thead>\n",
       "    <tr style=\"text-align: right;\">\n",
       "      <th></th>\n",
       "      <th>Email_ID</th>\n",
       "      <th>Email_Type</th>\n",
       "      <th>Subject_Hotness_Score</th>\n",
       "      <th>Email_Source_Type</th>\n",
       "      <th>Customer_Location</th>\n",
       "      <th>Email_Campaign_Type</th>\n",
       "      <th>Total_Past_Communications</th>\n",
       "      <th>Time_Email_sent_Category</th>\n",
       "      <th>Word_Count</th>\n",
       "      <th>Total_Links</th>\n",
       "      <th>Total_Images</th>\n",
       "      <th>Email_Status</th>\n",
       "    </tr>\n",
       "  </thead>\n",
       "  <tbody>\n",
       "    <tr>\n",
       "      <th>0</th>\n",
       "      <td>EMA00081000034500</td>\n",
       "      <td>1</td>\n",
       "      <td>2.2</td>\n",
       "      <td>2</td>\n",
       "      <td>E</td>\n",
       "      <td>2</td>\n",
       "      <td>33.0</td>\n",
       "      <td>1</td>\n",
       "      <td>440</td>\n",
       "      <td>8.0</td>\n",
       "      <td>0.0</td>\n",
       "      <td>0</td>\n",
       "    </tr>\n",
       "    <tr>\n",
       "      <th>1</th>\n",
       "      <td>EMA00081000045360</td>\n",
       "      <td>2</td>\n",
       "      <td>2.1</td>\n",
       "      <td>1</td>\n",
       "      <td>NaN</td>\n",
       "      <td>2</td>\n",
       "      <td>15.0</td>\n",
       "      <td>2</td>\n",
       "      <td>504</td>\n",
       "      <td>5.0</td>\n",
       "      <td>0.0</td>\n",
       "      <td>0</td>\n",
       "    </tr>\n",
       "    <tr>\n",
       "      <th>2</th>\n",
       "      <td>EMA00081000066290</td>\n",
       "      <td>2</td>\n",
       "      <td>0.1</td>\n",
       "      <td>1</td>\n",
       "      <td>B</td>\n",
       "      <td>3</td>\n",
       "      <td>36.0</td>\n",
       "      <td>2</td>\n",
       "      <td>962</td>\n",
       "      <td>5.0</td>\n",
       "      <td>0.0</td>\n",
       "      <td>1</td>\n",
       "    </tr>\n",
       "    <tr>\n",
       "      <th>3</th>\n",
       "      <td>EMA00081000076560</td>\n",
       "      <td>1</td>\n",
       "      <td>3.0</td>\n",
       "      <td>2</td>\n",
       "      <td>E</td>\n",
       "      <td>2</td>\n",
       "      <td>25.0</td>\n",
       "      <td>2</td>\n",
       "      <td>610</td>\n",
       "      <td>16.0</td>\n",
       "      <td>0.0</td>\n",
       "      <td>0</td>\n",
       "    </tr>\n",
       "    <tr>\n",
       "      <th>4</th>\n",
       "      <td>EMA00081000109720</td>\n",
       "      <td>1</td>\n",
       "      <td>0.0</td>\n",
       "      <td>2</td>\n",
       "      <td>C</td>\n",
       "      <td>3</td>\n",
       "      <td>18.0</td>\n",
       "      <td>2</td>\n",
       "      <td>947</td>\n",
       "      <td>4.0</td>\n",
       "      <td>0.0</td>\n",
       "      <td>0</td>\n",
       "    </tr>\n",
       "    <tr>\n",
       "      <th>5</th>\n",
       "      <td>EMA00081000131660</td>\n",
       "      <td>1</td>\n",
       "      <td>1.5</td>\n",
       "      <td>1</td>\n",
       "      <td>G</td>\n",
       "      <td>2</td>\n",
       "      <td>NaN</td>\n",
       "      <td>2</td>\n",
       "      <td>416</td>\n",
       "      <td>11.0</td>\n",
       "      <td>0.0</td>\n",
       "      <td>0</td>\n",
       "    </tr>\n",
       "    <tr>\n",
       "      <th>6</th>\n",
       "      <td>EMA00081000160500</td>\n",
       "      <td>1</td>\n",
       "      <td>3.2</td>\n",
       "      <td>1</td>\n",
       "      <td>E</td>\n",
       "      <td>2</td>\n",
       "      <td>34.0</td>\n",
       "      <td>3</td>\n",
       "      <td>116</td>\n",
       "      <td>4.0</td>\n",
       "      <td>0.0</td>\n",
       "      <td>0</td>\n",
       "    </tr>\n",
       "    <tr>\n",
       "      <th>7</th>\n",
       "      <td>EMA00081000269630</td>\n",
       "      <td>1</td>\n",
       "      <td>0.7</td>\n",
       "      <td>2</td>\n",
       "      <td>G</td>\n",
       "      <td>2</td>\n",
       "      <td>21.0</td>\n",
       "      <td>2</td>\n",
       "      <td>1241</td>\n",
       "      <td>6.0</td>\n",
       "      <td>2.0</td>\n",
       "      <td>0</td>\n",
       "    </tr>\n",
       "    <tr>\n",
       "      <th>8</th>\n",
       "      <td>EMA00081000287790</td>\n",
       "      <td>1</td>\n",
       "      <td>2.0</td>\n",
       "      <td>1</td>\n",
       "      <td>G</td>\n",
       "      <td>2</td>\n",
       "      <td>NaN</td>\n",
       "      <td>3</td>\n",
       "      <td>655</td>\n",
       "      <td>11.0</td>\n",
       "      <td>4.0</td>\n",
       "      <td>0</td>\n",
       "    </tr>\n",
       "    <tr>\n",
       "      <th>9</th>\n",
       "      <td>EMA00081000367310</td>\n",
       "      <td>2</td>\n",
       "      <td>0.5</td>\n",
       "      <td>1</td>\n",
       "      <td>G</td>\n",
       "      <td>2</td>\n",
       "      <td>40.0</td>\n",
       "      <td>3</td>\n",
       "      <td>655</td>\n",
       "      <td>11.0</td>\n",
       "      <td>0.0</td>\n",
       "      <td>0</td>\n",
       "    </tr>\n",
       "  </tbody>\n",
       "</table>\n",
       "</div>"
      ],
      "text/plain": [
       "            Email_ID  Email_Type  Subject_Hotness_Score  Email_Source_Type  \\\n",
       "0  EMA00081000034500           1                    2.2                  2   \n",
       "1  EMA00081000045360           2                    2.1                  1   \n",
       "2  EMA00081000066290           2                    0.1                  1   \n",
       "3  EMA00081000076560           1                    3.0                  2   \n",
       "4  EMA00081000109720           1                    0.0                  2   \n",
       "5  EMA00081000131660           1                    1.5                  1   \n",
       "6  EMA00081000160500           1                    3.2                  1   \n",
       "7  EMA00081000269630           1                    0.7                  2   \n",
       "8  EMA00081000287790           1                    2.0                  1   \n",
       "9  EMA00081000367310           2                    0.5                  1   \n",
       "\n",
       "  Customer_Location  Email_Campaign_Type  Total_Past_Communications  \\\n",
       "0                 E                    2                       33.0   \n",
       "1               NaN                    2                       15.0   \n",
       "2                 B                    3                       36.0   \n",
       "3                 E                    2                       25.0   \n",
       "4                 C                    3                       18.0   \n",
       "5                 G                    2                        NaN   \n",
       "6                 E                    2                       34.0   \n",
       "7                 G                    2                       21.0   \n",
       "8                 G                    2                        NaN   \n",
       "9                 G                    2                       40.0   \n",
       "\n",
       "   Time_Email_sent_Category  Word_Count  Total_Links  Total_Images  \\\n",
       "0                         1         440          8.0           0.0   \n",
       "1                         2         504          5.0           0.0   \n",
       "2                         2         962          5.0           0.0   \n",
       "3                         2         610         16.0           0.0   \n",
       "4                         2         947          4.0           0.0   \n",
       "5                         2         416         11.0           0.0   \n",
       "6                         3         116          4.0           0.0   \n",
       "7                         2        1241          6.0           2.0   \n",
       "8                         3         655         11.0           4.0   \n",
       "9                         3         655         11.0           0.0   \n",
       "\n",
       "   Email_Status  \n",
       "0             0  \n",
       "1             0  \n",
       "2             1  \n",
       "3             0  \n",
       "4             0  \n",
       "5             0  \n",
       "6             0  \n",
       "7             0  \n",
       "8             0  \n",
       "9             0  "
      ]
     },
     "execution_count": 3,
     "metadata": {},
     "output_type": "execute_result"
    }
   ],
   "source": [
    "df = pd.read_csv('codingdata.csv') #Loaded the training data\n",
    "df.head(n=10) #using head to show the first 10 lines of the data"
   ]
  },
  {
   "cell_type": "markdown",
   "metadata": {
    "application/vnd.databricks.v1+cell": {
     "inputWidgets": {},
     "nuid": "f71154a2-ac71-42a9-9f68-f74c8818dab7",
     "showTitle": false,
     "title": ""
    }
   },
   "source": [
    "### 2.  Define and describe your target variable\n",
    "The `email status` column contains three values with the following definitions.  \n",
    "`0=ignored` `1=read` and `2=converted`\n",
    "* Ignored means that the customer did not interact with the email\n",
    "* Read means that a customer opened the email\n",
    "* Converted means that the customer clicked on the link for the product page within the email. \n",
    "\n",
    "The company considers an `email_status` of `2` as a conversion, (statuses 0 and 1 are non-conversions)."
   ]
  },
  {
   "cell_type": "markdown",
   "metadata": {
    "application/vnd.databricks.v1+cell": {
     "inputWidgets": {},
     "nuid": "e7f9719b-1831-4ef0-8600-c02a999fa3ce",
     "showTitle": false,
     "title": ""
    }
   },
   "source": [
    "&nbsp;&nbsp;&nbsp;&nbsp;&nbsp;&nbsp;**a.** **(`10 pts`)** Create a new column called `conversion` that has a value of `1` when the email was follwed by a conversion and is `0` otherwise."
   ]
  },
  {
   "cell_type": "code",
   "execution_count": 4,
   "metadata": {
    "application/vnd.databricks.v1+cell": {
     "inputWidgets": {},
     "nuid": "05d68f3c-01b1-4c7f-b3fd-ac3e14511861",
     "showTitle": false,
     "title": ""
    }
   },
   "outputs": [],
   "source": [
    "import numpy as np"
   ]
  },
  {
   "cell_type": "code",
   "execution_count": 5,
   "metadata": {},
   "outputs": [
    {
     "data": {
      "text/html": [
       "<div>\n",
       "<style scoped>\n",
       "    .dataframe tbody tr th:only-of-type {\n",
       "        vertical-align: middle;\n",
       "    }\n",
       "\n",
       "    .dataframe tbody tr th {\n",
       "        vertical-align: top;\n",
       "    }\n",
       "\n",
       "    .dataframe thead th {\n",
       "        text-align: right;\n",
       "    }\n",
       "</style>\n",
       "<table border=\"1\" class=\"dataframe\">\n",
       "  <thead>\n",
       "    <tr style=\"text-align: right;\">\n",
       "      <th></th>\n",
       "      <th>Email_ID</th>\n",
       "      <th>Email_Type</th>\n",
       "      <th>Subject_Hotness_Score</th>\n",
       "      <th>Email_Source_Type</th>\n",
       "      <th>Customer_Location</th>\n",
       "      <th>Email_Campaign_Type</th>\n",
       "      <th>Total_Past_Communications</th>\n",
       "      <th>Time_Email_sent_Category</th>\n",
       "      <th>Word_Count</th>\n",
       "      <th>Total_Links</th>\n",
       "      <th>Total_Images</th>\n",
       "      <th>Email_Status</th>\n",
       "      <th>Conversion</th>\n",
       "    </tr>\n",
       "  </thead>\n",
       "  <tbody>\n",
       "    <tr>\n",
       "      <th>84</th>\n",
       "      <td>EMA00081007015970</td>\n",
       "      <td>2</td>\n",
       "      <td>1.5</td>\n",
       "      <td>1</td>\n",
       "      <td>NaN</td>\n",
       "      <td>2</td>\n",
       "      <td>30.0</td>\n",
       "      <td>3</td>\n",
       "      <td>988</td>\n",
       "      <td>8.0</td>\n",
       "      <td>0.0</td>\n",
       "      <td>2</td>\n",
       "      <td>1</td>\n",
       "    </tr>\n",
       "    <tr>\n",
       "      <th>177</th>\n",
       "      <td>EMA00081016365090</td>\n",
       "      <td>1</td>\n",
       "      <td>1.6</td>\n",
       "      <td>1</td>\n",
       "      <td>D</td>\n",
       "      <td>2</td>\n",
       "      <td>20.0</td>\n",
       "      <td>2</td>\n",
       "      <td>1140</td>\n",
       "      <td>26.0</td>\n",
       "      <td>20.0</td>\n",
       "      <td>2</td>\n",
       "      <td>1</td>\n",
       "    </tr>\n",
       "    <tr>\n",
       "      <th>210</th>\n",
       "      <td>EMA00081018900840</td>\n",
       "      <td>2</td>\n",
       "      <td>0.1</td>\n",
       "      <td>2</td>\n",
       "      <td>NaN</td>\n",
       "      <td>3</td>\n",
       "      <td>43.0</td>\n",
       "      <td>2</td>\n",
       "      <td>392</td>\n",
       "      <td>8.0</td>\n",
       "      <td>6.0</td>\n",
       "      <td>2</td>\n",
       "      <td>1</td>\n",
       "    </tr>\n",
       "    <tr>\n",
       "      <th>222</th>\n",
       "      <td>EMA00081020301680</td>\n",
       "      <td>1</td>\n",
       "      <td>2.8</td>\n",
       "      <td>1</td>\n",
       "      <td>C</td>\n",
       "      <td>2</td>\n",
       "      <td>18.0</td>\n",
       "      <td>2</td>\n",
       "      <td>623</td>\n",
       "      <td>14.0</td>\n",
       "      <td>10.0</td>\n",
       "      <td>2</td>\n",
       "      <td>1</td>\n",
       "    </tr>\n",
       "    <tr>\n",
       "      <th>247</th>\n",
       "      <td>EMA00081022263580</td>\n",
       "      <td>1</td>\n",
       "      <td>0.0</td>\n",
       "      <td>1</td>\n",
       "      <td>G</td>\n",
       "      <td>3</td>\n",
       "      <td>41.0</td>\n",
       "      <td>2</td>\n",
       "      <td>771</td>\n",
       "      <td>11.0</td>\n",
       "      <td>1.0</td>\n",
       "      <td>2</td>\n",
       "      <td>1</td>\n",
       "    </tr>\n",
       "    <tr>\n",
       "      <th>...</th>\n",
       "      <td>...</td>\n",
       "      <td>...</td>\n",
       "      <td>...</td>\n",
       "      <td>...</td>\n",
       "      <td>...</td>\n",
       "      <td>...</td>\n",
       "      <td>...</td>\n",
       "      <td>...</td>\n",
       "      <td>...</td>\n",
       "      <td>...</td>\n",
       "      <td>...</td>\n",
       "      <td>...</td>\n",
       "      <td>...</td>\n",
       "    </tr>\n",
       "    <tr>\n",
       "      <th>68227</th>\n",
       "      <td>EMA00089881159500</td>\n",
       "      <td>1</td>\n",
       "      <td>0.2</td>\n",
       "      <td>1</td>\n",
       "      <td>G</td>\n",
       "      <td>3</td>\n",
       "      <td>34.0</td>\n",
       "      <td>2</td>\n",
       "      <td>1082</td>\n",
       "      <td>14.0</td>\n",
       "      <td>2.0</td>\n",
       "      <td>2</td>\n",
       "      <td>1</td>\n",
       "    </tr>\n",
       "    <tr>\n",
       "      <th>68255</th>\n",
       "      <td>EMA00089903682700</td>\n",
       "      <td>1</td>\n",
       "      <td>0.3</td>\n",
       "      <td>2</td>\n",
       "      <td>B</td>\n",
       "      <td>3</td>\n",
       "      <td>46.0</td>\n",
       "      <td>3</td>\n",
       "      <td>655</td>\n",
       "      <td>31.0</td>\n",
       "      <td>21.0</td>\n",
       "      <td>2</td>\n",
       "      <td>1</td>\n",
       "    </tr>\n",
       "    <tr>\n",
       "      <th>68304</th>\n",
       "      <td>EMA00089950773800</td>\n",
       "      <td>1</td>\n",
       "      <td>0.0</td>\n",
       "      <td>1</td>\n",
       "      <td>G</td>\n",
       "      <td>3</td>\n",
       "      <td>20.0</td>\n",
       "      <td>2</td>\n",
       "      <td>922</td>\n",
       "      <td>11.0</td>\n",
       "      <td>4.0</td>\n",
       "      <td>2</td>\n",
       "      <td>1</td>\n",
       "    </tr>\n",
       "    <tr>\n",
       "      <th>68318</th>\n",
       "      <td>EMA00089960453100</td>\n",
       "      <td>1</td>\n",
       "      <td>0.3</td>\n",
       "      <td>1</td>\n",
       "      <td>A</td>\n",
       "      <td>3</td>\n",
       "      <td>49.0</td>\n",
       "      <td>2</td>\n",
       "      <td>440</td>\n",
       "      <td>11.0</td>\n",
       "      <td>8.0</td>\n",
       "      <td>2</td>\n",
       "      <td>1</td>\n",
       "    </tr>\n",
       "    <tr>\n",
       "      <th>68347</th>\n",
       "      <td>EMA00089994827000</td>\n",
       "      <td>1</td>\n",
       "      <td>0.0</td>\n",
       "      <td>2</td>\n",
       "      <td>NaN</td>\n",
       "      <td>3</td>\n",
       "      <td>32.0</td>\n",
       "      <td>3</td>\n",
       "      <td>1173</td>\n",
       "      <td>9.0</td>\n",
       "      <td>0.0</td>\n",
       "      <td>2</td>\n",
       "      <td>1</td>\n",
       "    </tr>\n",
       "  </tbody>\n",
       "</table>\n",
       "<p>2373 rows × 13 columns</p>\n",
       "</div>"
      ],
      "text/plain": [
       "                Email_ID  Email_Type  Subject_Hotness_Score  \\\n",
       "84     EMA00081007015970           2                    1.5   \n",
       "177    EMA00081016365090           1                    1.6   \n",
       "210    EMA00081018900840           2                    0.1   \n",
       "222    EMA00081020301680           1                    2.8   \n",
       "247    EMA00081022263580           1                    0.0   \n",
       "...                  ...         ...                    ...   \n",
       "68227  EMA00089881159500           1                    0.2   \n",
       "68255  EMA00089903682700           1                    0.3   \n",
       "68304  EMA00089950773800           1                    0.0   \n",
       "68318  EMA00089960453100           1                    0.3   \n",
       "68347  EMA00089994827000           1                    0.0   \n",
       "\n",
       "       Email_Source_Type Customer_Location  Email_Campaign_Type  \\\n",
       "84                     1               NaN                    2   \n",
       "177                    1                 D                    2   \n",
       "210                    2               NaN                    3   \n",
       "222                    1                 C                    2   \n",
       "247                    1                 G                    3   \n",
       "...                  ...               ...                  ...   \n",
       "68227                  1                 G                    3   \n",
       "68255                  2                 B                    3   \n",
       "68304                  1                 G                    3   \n",
       "68318                  1                 A                    3   \n",
       "68347                  2               NaN                    3   \n",
       "\n",
       "       Total_Past_Communications  Time_Email_sent_Category  Word_Count  \\\n",
       "84                          30.0                         3         988   \n",
       "177                         20.0                         2        1140   \n",
       "210                         43.0                         2         392   \n",
       "222                         18.0                         2         623   \n",
       "247                         41.0                         2         771   \n",
       "...                          ...                       ...         ...   \n",
       "68227                       34.0                         2        1082   \n",
       "68255                       46.0                         3         655   \n",
       "68304                       20.0                         2         922   \n",
       "68318                       49.0                         2         440   \n",
       "68347                       32.0                         3        1173   \n",
       "\n",
       "       Total_Links  Total_Images  Email_Status  Conversion  \n",
       "84             8.0           0.0             2           1  \n",
       "177           26.0          20.0             2           1  \n",
       "210            8.0           6.0             2           1  \n",
       "222           14.0          10.0             2           1  \n",
       "247           11.0           1.0             2           1  \n",
       "...            ...           ...           ...         ...  \n",
       "68227         14.0           2.0             2           1  \n",
       "68255         31.0          21.0             2           1  \n",
       "68304         11.0           4.0             2           1  \n",
       "68318         11.0           8.0             2           1  \n",
       "68347          9.0           0.0             2           1  \n",
       "\n",
       "[2373 rows x 13 columns]"
      ]
     },
     "execution_count": 5,
     "metadata": {},
     "output_type": "execute_result"
    }
   ],
   "source": [
    "df['Conversion'] = np.where(df['Email_Status'] != 2, 0, 1) \n",
    "#new column that classifies email status to conversion and non conversion\n",
    "\n",
    "df[df['Email_Status'] == 2] \n",
    "#to check that the logic works that 0 and 1 gets a 0 and 2 gets a 1 in the conversation table\n"
   ]
  },
  {
   "cell_type": "markdown",
   "metadata": {
    "application/vnd.databricks.v1+cell": {
     "inputWidgets": {},
     "nuid": "659af248-f7af-4df9-aa2a-f72ff215fce4",
     "showTitle": false,
     "title": ""
    }
   },
   "source": [
    "&nbsp;&nbsp;&nbsp;&nbsp;&nbsp;&nbsp;**b.**  **(`10 pts`)** How many conversions are in this dataset?<br>"
   ]
  },
  {
   "cell_type": "code",
   "execution_count": 38,
   "metadata": {
    "application/vnd.databricks.v1+cell": {
     "inputWidgets": {},
     "nuid": "be5bbcd8-88e4-4236-8d7c-6422a00d491a",
     "showTitle": false,
     "title": ""
    }
   },
   "outputs": [
    {
     "name": "stdout",
     "output_type": "stream",
     "text": [
      "Email_ID                      object\n",
      "Email_Type                     int64\n",
      "Subject_Hotness_Score        float64\n",
      "Email_Source_Type              int64\n",
      "Customer_Location             object\n",
      "Email_Campaign_Type            int64\n",
      "Total_Past_Communications    float64\n",
      "Time_Email_sent_Category       int64\n",
      "Word_Count                     int64\n",
      "Total_Links                  float64\n",
      "Total_Images                 float64\n",
      "Email_Status                   int64\n",
      "Conversion                     int32\n",
      "EmailCampFactorize             int64\n",
      "dtype: object\n"
     ]
    }
   ],
   "source": [
    "print(df.dtypes) #Checking that i can sum the conversion column to answer the question\n",
    "\n",
    "no_of_conversion = df['Conversion'].sum() #store in a variable the no of conversions\n",
    "\n",
    "assert sum(df['Email_Status'] == 2) == no_of_conversion, \"email status not translated correctly\"\n"
   ]
  },
  {
   "cell_type": "code",
   "execution_count": 39,
   "metadata": {},
   "outputs": [
    {
     "data": {
      "text/plain": [
       "'There are 1678 conversions in this dataset.'"
      ]
     },
     "execution_count": 39,
     "metadata": {},
     "output_type": "execute_result"
    }
   ],
   "source": [
    "#Answer to 2b\n",
    "f\"There are {no_of_conversion} conversions in this dataset.\""
   ]
  },
  {
   "cell_type": "markdown",
   "metadata": {
    "application/vnd.databricks.v1+cell": {
     "inputWidgets": {},
     "nuid": "2f25e64a-688a-4203-a880-ca8c17f3540b",
     "showTitle": false,
     "title": ""
    }
   },
   "source": [
    "&nbsp;&nbsp;&nbsp;&nbsp;&nbsp;&nbsp;**c.**  **(`10 pts`)** What percent of all emails resulted in a conversion?<br><i>Show output you used to determine this answer and provide your answer as a comment</i>"
   ]
  },
  {
   "cell_type": "code",
   "execution_count": 42,
   "metadata": {},
   "outputs": [],
   "source": [
    "no_of_rows = df.shape[0]\n",
    "assert no_of_rows == len(df.index), \"the no of total emails is incorrect\"\n",
    "pct_cvrsn = '{:.2%}'.format(no_of_conversion/no_of_rows) #format the decimal into %"
   ]
  },
  {
   "cell_type": "code",
   "execution_count": 43,
   "metadata": {},
   "outputs": [
    {
     "data": {
      "text/plain": [
       "'3.47% of all emails resulted in a conversion'"
      ]
     },
     "execution_count": 43,
     "metadata": {},
     "output_type": "execute_result"
    }
   ],
   "source": [
    "#Answer to 2c\n",
    "f\"{pct_cvrsn} of all emails resulted in a conversion\""
   ]
  },
  {
   "cell_type": "markdown",
   "metadata": {
    "application/vnd.databricks.v1+cell": {
     "inputWidgets": {},
     "nuid": "f207e6a1-20e3-4563-931b-43d9d9272a0a",
     "showTitle": false,
     "title": ""
    }
   },
   "source": [
    "### 3 Exploration"
   ]
  },
  {
   "cell_type": "markdown",
   "metadata": {
    "application/vnd.databricks.v1+cell": {
     "inputWidgets": {},
     "nuid": "e666c416-a222-461b-a060-249c92ca7266",
     "showTitle": false,
     "title": ""
    }
   },
   "source": [
    "&nbsp;&nbsp;&nbsp;&nbsp;&nbsp;&nbsp;**a.** The `Email_Campaign_Type` column captures the campaign under which the email was sent. A campaign is a marketing strategy.\n",
    "\n",
    "&nbsp;&nbsp;&nbsp;&nbsp;&nbsp;&nbsp;&nbsp;&nbsp;&nbsp;&nbsp;&nbsp;&nbsp;**i.**  **(`15 pts`)** Which campaign had the most conversions?"
   ]
  },
  {
   "cell_type": "code",
   "execution_count": 44,
   "metadata": {},
   "outputs": [],
   "source": [
    "campaign_summary = df.groupby('Email_Campaign_Type')['Conversion'].aggregate('sum') \\\n",
    "                   .reset_index(name=\"count\").sort_values('count', ascending=False)\n",
    "camp_no = campaign_summary.values[0][0]\n",
    "conv_ct = campaign_summary.values[0][1]"
   ]
  },
  {
   "cell_type": "code",
   "execution_count": 45,
   "metadata": {},
   "outputs": [
    {
     "data": {
      "text/plain": [
       "'Campaign 3 has the most conversions with 1042 out of the total 1678 conversions'"
      ]
     },
     "execution_count": 45,
     "metadata": {},
     "output_type": "execute_result"
    }
   ],
   "source": [
    "#Answer to 3a1\n",
    "f\"Campaign {camp_no} has the most conversions with {conv_ct} out of the total {no_of_conversion} conversions\""
   ]
  },
  {
   "cell_type": "markdown",
   "metadata": {
    "application/vnd.databricks.v1+cell": {
     "inputWidgets": {},
     "nuid": "bf2d66b5-cfb6-4a9f-bb23-42fddce0eb72",
     "showTitle": false,
     "title": ""
    }
   },
   "source": [
    "&nbsp;&nbsp;&nbsp;&nbsp;&nbsp;&nbsp;&nbsp;&nbsp;&nbsp;&nbsp;&nbsp;&nbsp;**ii.**  **(`15 pts`)** Which campaign has the highest conversion rate?"
   ]
  },
  {
   "cell_type": "code",
   "execution_count": 12,
   "metadata": {
    "application/vnd.databricks.v1+cell": {
     "inputWidgets": {},
     "nuid": "071e3e06-5957-4bdc-82c1-3924061ac580",
     "showTitle": false,
     "title": ""
    }
   },
   "outputs": [],
   "source": [
    "campaign_bytype = df.groupby('Email_Campaign_Type')['Conversion'].aggregate('count') \\\n",
    "                   .reset_index(name=\"count\")\n",
    "x = campaign_summary.sort_values('Email_Campaign_Type')"
   ]
  },
  {
   "cell_type": "code",
   "execution_count": 13,
   "metadata": {},
   "outputs": [],
   "source": [
    "campaign_conv=pd.merge(campaign_bytype,x, on='Email_Campaign_Type', how='left')\n",
    "campaign_conv.rename(\n",
    "    columns={\"Email_Campaign_Type\": \"Camp.Type\", \"count_x\": \"Camp.Count\", \"count_y\": \"Camp.Conv\"},\n",
    "    inplace=True)\n",
    "campaign_conv['Camp.ConvRate'] = campaign_conv['Camp.Conv']/campaign_conv['Camp.Count']\n",
    "campaign_conv['Camp.ConvRate']= campaign_conv['Camp.ConvRate'].map('{:.2%}'.format)\n",
    "high_conv = campaign_conv.sort_values(by = 'Camp.Type',ascending = False)\n",
    "camp_convrate = high_conv.values[2][3]\n",
    "camp_convtype = high_conv.values[2][0]\n",
    "camp_convcount = high_conv.values[2][1]\n",
    "camp_conv = high_conv.values[2][2]"
   ]
  },
  {
   "cell_type": "code",
   "execution_count": 46,
   "metadata": {},
   "outputs": [
    {
     "data": {
      "text/plain": [
       "'Campaign 1 has the highest conversion rate of 23.51% with 173 conversions out of the total 736'"
      ]
     },
     "execution_count": 46,
     "metadata": {},
     "output_type": "execute_result"
    }
   ],
   "source": [
    "#Answer to 3a2\n",
    "f\"Campaign {camp_convtype} has the highest conversion rate of {camp_convrate} \\\n",
    "with {camp_conv} conversions out of the total {camp_convcount}\""
   ]
  },
  {
   "cell_type": "markdown",
   "metadata": {
    "application/vnd.databricks.v1+cell": {
     "inputWidgets": {},
     "nuid": "228dfaee-79ba-4bf6-b31a-c26e1dff3f29",
     "showTitle": false,
     "title": ""
    }
   },
   "source": [
    "&nbsp;&nbsp;&nbsp;&nbsp;&nbsp;&nbsp;**b**.\n",
    "`Total_Past_Communications` is a count of the number of times the customer has been contacted prior to the current email. \n",
    "\n",
    "&nbsp;&nbsp;&nbsp;&nbsp;&nbsp;&nbsp;&nbsp;&nbsp;&nbsp;&nbsp;&nbsp;&nbsp;**i.** **(`12 pts`)** Create a box plot showing the distribution of `Total_Past_Communications` by `conversion`. \n",
    "\n",
    "&nbsp;&nbsp;&nbsp;&nbsp;&nbsp;&nbsp;&nbsp;&nbsp;&nbsp;&nbsp;&nbsp;&nbsp;**ii** **(`7 pts`)** How do conversions relate to the number of times a customer had been emailed?  Set the title to something that briefly summarizes this relationship. \n",
    "\n",
    "&nbsp;&nbsp;&nbsp;&nbsp;&nbsp;&nbsp;&nbsp;&nbsp;&nbsp;&nbsp;&nbsp;&nbsp;**iii.** **(`3 pts`)** Set the x-label to be `Conversion Status` and the y-label to be `Previous Emails`\n",
    "\n",
    "&nbsp;&nbsp;&nbsp;&nbsp;&nbsp;&nbsp;&nbsp;&nbsp;&nbsp;&nbsp;&nbsp;&nbsp;**iv** **(`3 pts`)** Prevent the default text `'Boxplot grouped by conversion'` from displaying in the title of the boxplot, and do not show extreme values / outliers.  Then show your plot!\n",
    "\n",
    "_note: the output should be one boxplot, rather than one boxplot per sub-question_"
   ]
  },
  {
   "cell_type": "code",
   "execution_count": 15,
   "metadata": {},
   "outputs": [],
   "source": [
    "import matplotlib.pyplot as plt"
   ]
  },
  {
   "cell_type": "code",
   "execution_count": 16,
   "metadata": {},
   "outputs": [],
   "source": [
    "#TPC_Conv = pd.pivot_table(df, values = 'Email_ID',index = 'Conversion', \\\n",
    "                          #columns = 'Total_Past_Communications' ,aggfunc = len)\n",
    "#TPC_Conv.plot(kind ='box', figsize = (30,7))\n",
    "#plt.show"
   ]
  },
  {
   "cell_type": "code",
   "execution_count": 17,
   "metadata": {},
   "outputs": [
    {
     "data": {
      "text/plain": [
       "<function matplotlib.pyplot.show(close=None, block=None)>"
      ]
     },
     "execution_count": 17,
     "metadata": {},
     "output_type": "execute_result"
    },
    {
     "data": {
      "image/png": "[encoded data removed]",
      "text/plain": [
       "<Figure size 1080x504 with 1 Axes>"
      ]
     },
     "metadata": {
      "needs_background": "light"
     },
     "output_type": "display_data"
    }
   ],
   "source": [
    "ax = df[['Total_Past_Communications', 'Conversion']].boxplot(by ='Conversion', figsize = (15,7), \\\n",
    "                                                            showfliers = False)\n",
    "ax.set_xlabel('Conversion Status')\n",
    "ax.set_ylabel('Previous Emails')\n",
    "ax.set_title('Prior Email Communication Increases Chances of Conversion')\n",
    "plt.suptitle(\"\")\n",
    "plt.show\n"
   ]
  },
  {
   "cell_type": "markdown",
   "metadata": {},
   "source": [
    "***\n",
    "You're done!  You can relax and submit this assignment! <br>If you're feeling ambitious, you can try your hand at the _extra credit_ portion below.  "
   ]
  },
  {
   "cell_type": "markdown",
   "metadata": {
    "application/vnd.databricks.v1+cell": {
     "inputWidgets": {},
     "nuid": "180af1b5-c419-466e-8ed4-3ac0d60ddbae",
     "showTitle": false,
     "title": ""
    }
   },
   "source": [
    "***\n",
    "# Extra Credit: Build, Interpret and Assess a Machine Learning Model to Predict Conversion Rate\n",
    "\n",
    "**1.  Data Cleaning & Prep** \n",
    "We'll be encoding a categorical variable, joining it to all of our numerical variables and generating a train-test split to train and test our model.<br>"
   ]
  },
  {
   "cell_type": "markdown",
   "metadata": {},
   "source": [
    "&nbsp;&nbsp;&nbsp;&nbsp;&nbsp;&nbsp;**a.** **(`5 pts`)** Which columns are categorical columns and which are numerical? Create a list of categorical column names and a list of numerical column names. Ignore the following columns: `Email_ID`, `Email_Status`, `conversion`.  You should have ten columns to categorize.  Save each list to a variable (e.g., `my_var = ['a', 'b', 'c']`)"
   ]
  },
  {
   "cell_type": "code",
   "execution_count": 18,
   "metadata": {},
   "outputs": [],
   "source": [
    "import statsmodels.api as sm\n",
    "from sklearn.model_selection import train_test_split"
   ]
  },
  {
   "cell_type": "code",
   "execution_count": 19,
   "metadata": {
    "application/vnd.databricks.v1+cell": {
     "inputWidgets": {},
     "nuid": "20927b18-3168-42ae-a869-378f470a5fa3",
     "showTitle": false,
     "title": ""
    }
   },
   "outputs": [
    {
     "name": "stdout",
     "output_type": "stream",
     "text": [
      "Email_ID                      object\n",
      "Email_Type                     int64\n",
      "Subject_Hotness_Score        float64\n",
      "Email_Source_Type              int64\n",
      "Customer_Location             object\n",
      "Email_Campaign_Type            int64\n",
      "Total_Past_Communications    float64\n",
      "Time_Email_sent_Category       int64\n",
      "Word_Count                     int64\n",
      "Total_Links                  float64\n",
      "Total_Images                 float64\n",
      "Email_Status                   int64\n",
      "Conversion                     int32\n",
      "dtype: object\n"
     ]
    }
   ],
   "source": [
    "print(df.dtypes)\n",
    "colCat = ['Email_Type','Email_Source_Type','Customer_Location', 'Email_Campaign_Type','Time_Email_sent_Category']\n",
    "colNum = ['Subject_Hotness_Score', 'Total_Past_Communications','Word_Count', 'Total_Links', 'Total_Images']"
   ]
  },
  {
   "cell_type": "markdown",
   "metadata": {},
   "source": [
    "&nbsp;&nbsp;&nbsp;&nbsp;&nbsp;&nbsp;**b.** **(`2.5 pts`)** A few of the columns have missing values, let's just drop them.  Hint: a pandas method can do this for you."
   ]
  },
  {
   "cell_type": "code",
   "execution_count": 20,
   "metadata": {
    "application/vnd.databricks.v1+cell": {
     "inputWidgets": {},
     "nuid": "454044e9-8fc4-4832-b99a-61c039c87250",
     "showTitle": false,
     "title": ""
    }
   },
   "outputs": [
    {
     "data": {
      "text/html": [
       "<div>\n",
       "<style scoped>\n",
       "    .dataframe tbody tr th:only-of-type {\n",
       "        vertical-align: middle;\n",
       "    }\n",
       "\n",
       "    .dataframe tbody tr th {\n",
       "        vertical-align: top;\n",
       "    }\n",
       "\n",
       "    .dataframe thead th {\n",
       "        text-align: right;\n",
       "    }\n",
       "</style>\n",
       "<table border=\"1\" class=\"dataframe\">\n",
       "  <thead>\n",
       "    <tr style=\"text-align: right;\">\n",
       "      <th></th>\n",
       "      <th>Email_ID</th>\n",
       "      <th>Email_Type</th>\n",
       "      <th>Subject_Hotness_Score</th>\n",
       "      <th>Email_Source_Type</th>\n",
       "      <th>Customer_Location</th>\n",
       "      <th>Email_Campaign_Type</th>\n",
       "      <th>Total_Past_Communications</th>\n",
       "      <th>Time_Email_sent_Category</th>\n",
       "      <th>Word_Count</th>\n",
       "      <th>Total_Links</th>\n",
       "      <th>Total_Images</th>\n",
       "      <th>Email_Status</th>\n",
       "      <th>Conversion</th>\n",
       "    </tr>\n",
       "  </thead>\n",
       "  <tbody>\n",
       "    <tr>\n",
       "      <th>0</th>\n",
       "      <td>EMA00081000034500</td>\n",
       "      <td>1</td>\n",
       "      <td>2.2</td>\n",
       "      <td>2</td>\n",
       "      <td>E</td>\n",
       "      <td>2</td>\n",
       "      <td>33.0</td>\n",
       "      <td>1</td>\n",
       "      <td>440</td>\n",
       "      <td>8.0</td>\n",
       "      <td>0.0</td>\n",
       "      <td>0</td>\n",
       "      <td>0</td>\n",
       "    </tr>\n",
       "    <tr>\n",
       "      <th>2</th>\n",
       "      <td>EMA00081000066290</td>\n",
       "      <td>2</td>\n",
       "      <td>0.1</td>\n",
       "      <td>1</td>\n",
       "      <td>B</td>\n",
       "      <td>3</td>\n",
       "      <td>36.0</td>\n",
       "      <td>2</td>\n",
       "      <td>962</td>\n",
       "      <td>5.0</td>\n",
       "      <td>0.0</td>\n",
       "      <td>1</td>\n",
       "      <td>0</td>\n",
       "    </tr>\n",
       "    <tr>\n",
       "      <th>3</th>\n",
       "      <td>EMA00081000076560</td>\n",
       "      <td>1</td>\n",
       "      <td>3.0</td>\n",
       "      <td>2</td>\n",
       "      <td>E</td>\n",
       "      <td>2</td>\n",
       "      <td>25.0</td>\n",
       "      <td>2</td>\n",
       "      <td>610</td>\n",
       "      <td>16.0</td>\n",
       "      <td>0.0</td>\n",
       "      <td>0</td>\n",
       "      <td>0</td>\n",
       "    </tr>\n",
       "    <tr>\n",
       "      <th>4</th>\n",
       "      <td>EMA00081000109720</td>\n",
       "      <td>1</td>\n",
       "      <td>0.0</td>\n",
       "      <td>2</td>\n",
       "      <td>C</td>\n",
       "      <td>3</td>\n",
       "      <td>18.0</td>\n",
       "      <td>2</td>\n",
       "      <td>947</td>\n",
       "      <td>4.0</td>\n",
       "      <td>0.0</td>\n",
       "      <td>0</td>\n",
       "      <td>0</td>\n",
       "    </tr>\n",
       "    <tr>\n",
       "      <th>6</th>\n",
       "      <td>EMA00081000160500</td>\n",
       "      <td>1</td>\n",
       "      <td>3.2</td>\n",
       "      <td>1</td>\n",
       "      <td>E</td>\n",
       "      <td>2</td>\n",
       "      <td>34.0</td>\n",
       "      <td>3</td>\n",
       "      <td>116</td>\n",
       "      <td>4.0</td>\n",
       "      <td>0.0</td>\n",
       "      <td>0</td>\n",
       "      <td>0</td>\n",
       "    </tr>\n",
       "    <tr>\n",
       "      <th>...</th>\n",
       "      <td>...</td>\n",
       "      <td>...</td>\n",
       "      <td>...</td>\n",
       "      <td>...</td>\n",
       "      <td>...</td>\n",
       "      <td>...</td>\n",
       "      <td>...</td>\n",
       "      <td>...</td>\n",
       "      <td>...</td>\n",
       "      <td>...</td>\n",
       "      <td>...</td>\n",
       "      <td>...</td>\n",
       "      <td>...</td>\n",
       "    </tr>\n",
       "    <tr>\n",
       "      <th>68346</th>\n",
       "      <td>EMA00089992519500</td>\n",
       "      <td>1</td>\n",
       "      <td>1.2</td>\n",
       "      <td>2</td>\n",
       "      <td>E</td>\n",
       "      <td>2</td>\n",
       "      <td>30.0</td>\n",
       "      <td>3</td>\n",
       "      <td>565</td>\n",
       "      <td>14.0</td>\n",
       "      <td>3.0</td>\n",
       "      <td>1</td>\n",
       "      <td>0</td>\n",
       "    </tr>\n",
       "    <tr>\n",
       "      <th>68348</th>\n",
       "      <td>EMA00089995974500</td>\n",
       "      <td>2</td>\n",
       "      <td>0.4</td>\n",
       "      <td>1</td>\n",
       "      <td>F</td>\n",
       "      <td>2</td>\n",
       "      <td>22.0</td>\n",
       "      <td>3</td>\n",
       "      <td>737</td>\n",
       "      <td>16.0</td>\n",
       "      <td>13.0</td>\n",
       "      <td>0</td>\n",
       "      <td>0</td>\n",
       "    </tr>\n",
       "    <tr>\n",
       "      <th>68349</th>\n",
       "      <td>EMA00089998225300</td>\n",
       "      <td>1</td>\n",
       "      <td>1.3</td>\n",
       "      <td>1</td>\n",
       "      <td>C</td>\n",
       "      <td>2</td>\n",
       "      <td>40.0</td>\n",
       "      <td>2</td>\n",
       "      <td>653</td>\n",
       "      <td>31.0</td>\n",
       "      <td>16.0</td>\n",
       "      <td>0</td>\n",
       "      <td>0</td>\n",
       "    </tr>\n",
       "    <tr>\n",
       "      <th>68351</th>\n",
       "      <td>EMA00089999168800</td>\n",
       "      <td>1</td>\n",
       "      <td>0.4</td>\n",
       "      <td>1</td>\n",
       "      <td>E</td>\n",
       "      <td>2</td>\n",
       "      <td>50.0</td>\n",
       "      <td>1</td>\n",
       "      <td>733</td>\n",
       "      <td>14.0</td>\n",
       "      <td>4.0</td>\n",
       "      <td>0</td>\n",
       "      <td>0</td>\n",
       "    </tr>\n",
       "    <tr>\n",
       "      <th>68352</th>\n",
       "      <td>EMA00089999316900</td>\n",
       "      <td>1</td>\n",
       "      <td>1.5</td>\n",
       "      <td>1</td>\n",
       "      <td>G</td>\n",
       "      <td>2</td>\n",
       "      <td>20.0</td>\n",
       "      <td>2</td>\n",
       "      <td>1038</td>\n",
       "      <td>6.0</td>\n",
       "      <td>0.0</td>\n",
       "      <td>0</td>\n",
       "      <td>0</td>\n",
       "    </tr>\n",
       "  </tbody>\n",
       "</table>\n",
       "<p>48291 rows × 13 columns</p>\n",
       "</div>"
      ],
      "text/plain": [
       "                Email_ID  Email_Type  Subject_Hotness_Score  \\\n",
       "0      EMA00081000034500           1                    2.2   \n",
       "2      EMA00081000066290           2                    0.1   \n",
       "3      EMA00081000076560           1                    3.0   \n",
       "4      EMA00081000109720           1                    0.0   \n",
       "6      EMA00081000160500           1                    3.2   \n",
       "...                  ...         ...                    ...   \n",
       "68346  EMA00089992519500           1                    1.2   \n",
       "68348  EMA00089995974500           2                    0.4   \n",
       "68349  EMA00089998225300           1                    1.3   \n",
       "68351  EMA00089999168800           1                    0.4   \n",
       "68352  EMA00089999316900           1                    1.5   \n",
       "\n",
       "       Email_Source_Type Customer_Location  Email_Campaign_Type  \\\n",
       "0                      2                 E                    2   \n",
       "2                      1                 B                    3   \n",
       "3                      2                 E                    2   \n",
       "4                      2                 C                    3   \n",
       "6                      1                 E                    2   \n",
       "...                  ...               ...                  ...   \n",
       "68346                  2                 E                    2   \n",
       "68348                  1                 F                    2   \n",
       "68349                  1                 C                    2   \n",
       "68351                  1                 E                    2   \n",
       "68352                  1                 G                    2   \n",
       "\n",
       "       Total_Past_Communications  Time_Email_sent_Category  Word_Count  \\\n",
       "0                           33.0                         1         440   \n",
       "2                           36.0                         2         962   \n",
       "3                           25.0                         2         610   \n",
       "4                           18.0                         2         947   \n",
       "6                           34.0                         3         116   \n",
       "...                          ...                       ...         ...   \n",
       "68346                       30.0                         3         565   \n",
       "68348                       22.0                         3         737   \n",
       "68349                       40.0                         2         653   \n",
       "68351                       50.0                         1         733   \n",
       "68352                       20.0                         2        1038   \n",
       "\n",
       "       Total_Links  Total_Images  Email_Status  Conversion  \n",
       "0              8.0           0.0             0           0  \n",
       "2              5.0           0.0             1           0  \n",
       "3             16.0           0.0             0           0  \n",
       "4              4.0           0.0             0           0  \n",
       "6              4.0           0.0             0           0  \n",
       "...            ...           ...           ...         ...  \n",
       "68346         14.0           3.0             1           0  \n",
       "68348         16.0          13.0             0           0  \n",
       "68349         31.0          16.0             0           0  \n",
       "68351         14.0           4.0             0           0  \n",
       "68352          6.0           0.0             0           0  \n",
       "\n",
       "[48291 rows x 13 columns]"
      ]
     },
     "execution_count": 20,
     "metadata": {},
     "output_type": "execute_result"
    }
   ],
   "source": [
    "df = df.dropna(axis='rows', how='any')\n",
    "df\n",
    "#about 20k rows were dropped"
   ]
  },
  {
   "cell_type": "markdown",
   "metadata": {},
   "source": [
    "&nbsp;&nbsp;&nbsp;&nbsp;&nbsp;&nbsp;**c.** **(`10 pts`)** Add dummy variables for the `Email_Campaign_Type` column. <br>\n",
    "&nbsp;&nbsp;&nbsp;&nbsp;&nbsp;&nbsp;**Hint**: a pandas method can help you do this as well. <br>\n",
    "&nbsp;&nbsp;&nbsp;&nbsp;&nbsp;&nbsp;Also, should you create dummy columns for all the different values of the categorical variable for a logistic regression? Why or why not?<br>\n",
    "&nbsp;&nbsp;&nbsp;&nbsp;&nbsp;&nbsp;Create a variable called `all_features` that is a list of all the variables we want to use in our model.  This will be all numerical variables and the dummy variables.  Print the variable (i.e., `print(all_features)`).  <br>\n"
   ]
  },
  {
   "cell_type": "code",
   "execution_count": 21,
   "metadata": {
    "scrolled": true
   },
   "outputs": [
    {
     "name": "stdout",
     "output_type": "stream",
     "text": [
      "[0 1 0 ... 0 0 0]\n",
      "Int64Index([2, 3, 1], dtype='int64')\n"
     ]
    }
   ],
   "source": [
    "email_camp_type, email_labels = df['Email_Campaign_Type'].factorize()\n",
    "print(email_camp_type)\n",
    "print(email_labels)"
   ]
  },
  {
   "cell_type": "code",
   "execution_count": 22,
   "metadata": {},
   "outputs": [],
   "source": [
    "#Should you create dummy columns for all the different values of the \n",
    "#categorical variable for a logistic regression? Why or why not?\n",
    "\n",
    "#Answer: In theory, you can create a dummy column for each of the values. However, it would be impractical to do so.\n",
    "#The dummy allows the model to differentiate a category from the other. It only needs n-1 dummy columns because logically\n",
    "# if its not there, then it must be the last value of the categorical column"
   ]
  },
  {
   "cell_type": "code",
   "execution_count": 23,
   "metadata": {},
   "outputs": [
    {
     "data": {
      "text/plain": [
       "['EmailCampFactorize',\n",
       " 'Subject_Hotness_Score',\n",
       " 'Total_Past_Communications',\n",
       " 'Word_Count',\n",
       " 'Total_Links',\n",
       " 'Total_Images',\n",
       " 'Conversion']"
      ]
     },
     "execution_count": 23,
     "metadata": {},
     "output_type": "execute_result"
    }
   ],
   "source": [
    "df['EmailCampFactorize'] = email_camp_type\n",
    "all_features = ['EmailCampFactorize','Subject_Hotness_Score','Total_Past_Communications','Word_Count', \\\n",
    "                'Total_Links', 'Total_Images','Conversion']\n",
    "list(all_features)"
   ]
  },
  {
   "cell_type": "markdown",
   "metadata": {},
   "source": [
    "&nbsp;&nbsp;&nbsp;&nbsp;&nbsp;&nbsp;**d.** **(`7.5 pts`)** Split the dataframe into 80% training data and 20% testing data using the Sci-kit learn `train_test_split` function. When you pass the data to be split, be sure to add an intercept!  \n",
    "To do this simply pass `sm.add_constant(df[all_features])` (where `sm` is the alias for `statsmodels.api`) instead of just `df[all_features]` (in other words, `df[all_features]` is your modeling dataframe subset to the features you will use to model).  \n",
    "Finally, add the following argument to train_test_split:  `random_state=42`\n",
    "\n",
    "*print the number of rows and columns in all the dataframes you created in this step*"
   ]
  },
  {
   "cell_type": "code",
   "execution_count": 24,
   "metadata": {},
   "outputs": [
    {
     "data": {
      "text/html": [
       "<div>\n",
       "<style scoped>\n",
       "    .dataframe tbody tr th:only-of-type {\n",
       "        vertical-align: middle;\n",
       "    }\n",
       "\n",
       "    .dataframe tbody tr th {\n",
       "        vertical-align: top;\n",
       "    }\n",
       "\n",
       "    .dataframe thead th {\n",
       "        text-align: right;\n",
       "    }\n",
       "</style>\n",
       "<table border=\"1\" class=\"dataframe\">\n",
       "  <thead>\n",
       "    <tr style=\"text-align: right;\">\n",
       "      <th></th>\n",
       "      <th>const</th>\n",
       "      <th>EmailCampFactorize</th>\n",
       "      <th>Subject_Hotness_Score</th>\n",
       "      <th>Total_Past_Communications</th>\n",
       "      <th>Word_Count</th>\n",
       "      <th>Total_Links</th>\n",
       "      <th>Total_Images</th>\n",
       "      <th>Conversion</th>\n",
       "    </tr>\n",
       "  </thead>\n",
       "  <tbody>\n",
       "    <tr>\n",
       "      <th>68084</th>\n",
       "      <td>1.0</td>\n",
       "      <td>1</td>\n",
       "      <td>0.1</td>\n",
       "      <td>61.0</td>\n",
       "      <td>311</td>\n",
       "      <td>4.0</td>\n",
       "      <td>2.0</td>\n",
       "      <td>0</td>\n",
       "    </tr>\n",
       "    <tr>\n",
       "      <th>29557</th>\n",
       "      <td>1.0</td>\n",
       "      <td>0</td>\n",
       "      <td>1.3</td>\n",
       "      <td>16.0</td>\n",
       "      <td>704</td>\n",
       "      <td>6.0</td>\n",
       "      <td>0.0</td>\n",
       "      <td>0</td>\n",
       "    </tr>\n",
       "    <tr>\n",
       "      <th>46822</th>\n",
       "      <td>1.0</td>\n",
       "      <td>1</td>\n",
       "      <td>0.3</td>\n",
       "      <td>33.0</td>\n",
       "      <td>713</td>\n",
       "      <td>19.0</td>\n",
       "      <td>15.0</td>\n",
       "      <td>0</td>\n",
       "    </tr>\n",
       "    <tr>\n",
       "      <th>23701</th>\n",
       "      <td>1.0</td>\n",
       "      <td>0</td>\n",
       "      <td>0.4</td>\n",
       "      <td>36.0</td>\n",
       "      <td>778</td>\n",
       "      <td>14.0</td>\n",
       "      <td>0.0</td>\n",
       "      <td>0</td>\n",
       "    </tr>\n",
       "    <tr>\n",
       "      <th>57358</th>\n",
       "      <td>1.0</td>\n",
       "      <td>0</td>\n",
       "      <td>1.8</td>\n",
       "      <td>25.0</td>\n",
       "      <td>251</td>\n",
       "      <td>11.0</td>\n",
       "      <td>8.0</td>\n",
       "      <td>0</td>\n",
       "    </tr>\n",
       "    <tr>\n",
       "      <th>...</th>\n",
       "      <td>...</td>\n",
       "      <td>...</td>\n",
       "      <td>...</td>\n",
       "      <td>...</td>\n",
       "      <td>...</td>\n",
       "      <td>...</td>\n",
       "      <td>...</td>\n",
       "      <td>...</td>\n",
       "    </tr>\n",
       "    <tr>\n",
       "      <th>16010</th>\n",
       "      <td>1.0</td>\n",
       "      <td>0</td>\n",
       "      <td>1.7</td>\n",
       "      <td>26.0</td>\n",
       "      <td>841</td>\n",
       "      <td>14.0</td>\n",
       "      <td>6.0</td>\n",
       "      <td>0</td>\n",
       "    </tr>\n",
       "    <tr>\n",
       "      <th>63293</th>\n",
       "      <td>1.0</td>\n",
       "      <td>0</td>\n",
       "      <td>0.6</td>\n",
       "      <td>30.0</td>\n",
       "      <td>684</td>\n",
       "      <td>11.0</td>\n",
       "      <td>5.0</td>\n",
       "      <td>0</td>\n",
       "    </tr>\n",
       "    <tr>\n",
       "      <th>54000</th>\n",
       "      <td>1.0</td>\n",
       "      <td>1</td>\n",
       "      <td>0.3</td>\n",
       "      <td>18.0</td>\n",
       "      <td>1288</td>\n",
       "      <td>6.0</td>\n",
       "      <td>0.0</td>\n",
       "      <td>0</td>\n",
       "    </tr>\n",
       "    <tr>\n",
       "      <th>1198</th>\n",
       "      <td>1.0</td>\n",
       "      <td>0</td>\n",
       "      <td>2.3</td>\n",
       "      <td>29.0</td>\n",
       "      <td>770</td>\n",
       "      <td>14.0</td>\n",
       "      <td>9.0</td>\n",
       "      <td>0</td>\n",
       "    </tr>\n",
       "    <tr>\n",
       "      <th>22439</th>\n",
       "      <td>1.0</td>\n",
       "      <td>0</td>\n",
       "      <td>2.2</td>\n",
       "      <td>20.0</td>\n",
       "      <td>673</td>\n",
       "      <td>23.0</td>\n",
       "      <td>21.0</td>\n",
       "      <td>0</td>\n",
       "    </tr>\n",
       "  </tbody>\n",
       "</table>\n",
       "<p>38632 rows × 8 columns</p>\n",
       "</div>"
      ],
      "text/plain": [
       "       const  EmailCampFactorize  Subject_Hotness_Score  \\\n",
       "68084    1.0                   1                    0.1   \n",
       "29557    1.0                   0                    1.3   \n",
       "46822    1.0                   1                    0.3   \n",
       "23701    1.0                   0                    0.4   \n",
       "57358    1.0                   0                    1.8   \n",
       "...      ...                 ...                    ...   \n",
       "16010    1.0                   0                    1.7   \n",
       "63293    1.0                   0                    0.6   \n",
       "54000    1.0                   1                    0.3   \n",
       "1198     1.0                   0                    2.3   \n",
       "22439    1.0                   0                    2.2   \n",
       "\n",
       "       Total_Past_Communications  Word_Count  Total_Links  Total_Images  \\\n",
       "68084                       61.0         311          4.0           2.0   \n",
       "29557                       16.0         704          6.0           0.0   \n",
       "46822                       33.0         713         19.0          15.0   \n",
       "23701                       36.0         778         14.0           0.0   \n",
       "57358                       25.0         251         11.0           8.0   \n",
       "...                          ...         ...          ...           ...   \n",
       "16010                       26.0         841         14.0           6.0   \n",
       "63293                       30.0         684         11.0           5.0   \n",
       "54000                       18.0        1288          6.0           0.0   \n",
       "1198                        29.0         770         14.0           9.0   \n",
       "22439                       20.0         673         23.0          21.0   \n",
       "\n",
       "       Conversion  \n",
       "68084           0  \n",
       "29557           0  \n",
       "46822           0  \n",
       "23701           0  \n",
       "57358           0  \n",
       "...           ...  \n",
       "16010           0  \n",
       "63293           0  \n",
       "54000           0  \n",
       "1198            0  \n",
       "22439           0  \n",
       "\n",
       "[38632 rows x 8 columns]"
      ]
     },
     "execution_count": 24,
     "metadata": {},
     "output_type": "execute_result"
    }
   ],
   "source": [
    "all_features_train, all_features_test = train_test_split(sm.add_constant(df[all_features])\\\n",
    "                                        , train_size = .8, random_state = 42)\n",
    "all_features_train"
   ]
  },
  {
   "cell_type": "code",
   "execution_count": 25,
   "metadata": {},
   "outputs": [
    {
     "data": {
      "text/html": [
       "<div>\n",
       "<style scoped>\n",
       "    .dataframe tbody tr th:only-of-type {\n",
       "        vertical-align: middle;\n",
       "    }\n",
       "\n",
       "    .dataframe tbody tr th {\n",
       "        vertical-align: top;\n",
       "    }\n",
       "\n",
       "    .dataframe thead th {\n",
       "        text-align: right;\n",
       "    }\n",
       "</style>\n",
       "<table border=\"1\" class=\"dataframe\">\n",
       "  <thead>\n",
       "    <tr style=\"text-align: right;\">\n",
       "      <th></th>\n",
       "      <th>const</th>\n",
       "      <th>EmailCampFactorize</th>\n",
       "      <th>Subject_Hotness_Score</th>\n",
       "      <th>Total_Past_Communications</th>\n",
       "      <th>Word_Count</th>\n",
       "      <th>Total_Links</th>\n",
       "      <th>Total_Images</th>\n",
       "      <th>Conversion</th>\n",
       "    </tr>\n",
       "  </thead>\n",
       "  <tbody>\n",
       "    <tr>\n",
       "      <th>64266</th>\n",
       "      <td>1.0</td>\n",
       "      <td>0</td>\n",
       "      <td>2.4</td>\n",
       "      <td>18.0</td>\n",
       "      <td>1103</td>\n",
       "      <td>14.0</td>\n",
       "      <td>4.0</td>\n",
       "      <td>0</td>\n",
       "    </tr>\n",
       "    <tr>\n",
       "      <th>19361</th>\n",
       "      <td>1.0</td>\n",
       "      <td>0</td>\n",
       "      <td>3.1</td>\n",
       "      <td>25.0</td>\n",
       "      <td>694</td>\n",
       "      <td>11.0</td>\n",
       "      <td>2.0</td>\n",
       "      <td>0</td>\n",
       "    </tr>\n",
       "    <tr>\n",
       "      <th>34064</th>\n",
       "      <td>1.0</td>\n",
       "      <td>1</td>\n",
       "      <td>0.1</td>\n",
       "      <td>49.0</td>\n",
       "      <td>610</td>\n",
       "      <td>6.0</td>\n",
       "      <td>0.0</td>\n",
       "      <td>0</td>\n",
       "    </tr>\n",
       "    <tr>\n",
       "      <th>51239</th>\n",
       "      <td>1.0</td>\n",
       "      <td>0</td>\n",
       "      <td>1.5</td>\n",
       "      <td>24.0</td>\n",
       "      <td>1014</td>\n",
       "      <td>31.0</td>\n",
       "      <td>21.0</td>\n",
       "      <td>0</td>\n",
       "    </tr>\n",
       "    <tr>\n",
       "      <th>33179</th>\n",
       "      <td>1.0</td>\n",
       "      <td>0</td>\n",
       "      <td>1.3</td>\n",
       "      <td>42.0</td>\n",
       "      <td>519</td>\n",
       "      <td>16.0</td>\n",
       "      <td>0.0</td>\n",
       "      <td>0</td>\n",
       "    </tr>\n",
       "    <tr>\n",
       "      <th>...</th>\n",
       "      <td>...</td>\n",
       "      <td>...</td>\n",
       "      <td>...</td>\n",
       "      <td>...</td>\n",
       "      <td>...</td>\n",
       "      <td>...</td>\n",
       "      <td>...</td>\n",
       "      <td>...</td>\n",
       "    </tr>\n",
       "    <tr>\n",
       "      <th>24698</th>\n",
       "      <td>1.0</td>\n",
       "      <td>0</td>\n",
       "      <td>1.3</td>\n",
       "      <td>54.0</td>\n",
       "      <td>194</td>\n",
       "      <td>21.0</td>\n",
       "      <td>8.0</td>\n",
       "      <td>0</td>\n",
       "    </tr>\n",
       "    <tr>\n",
       "      <th>2023</th>\n",
       "      <td>1.0</td>\n",
       "      <td>0</td>\n",
       "      <td>0.4</td>\n",
       "      <td>17.0</td>\n",
       "      <td>1216</td>\n",
       "      <td>6.0</td>\n",
       "      <td>0.0</td>\n",
       "      <td>0</td>\n",
       "    </tr>\n",
       "    <tr>\n",
       "      <th>11500</th>\n",
       "      <td>1.0</td>\n",
       "      <td>0</td>\n",
       "      <td>0.4</td>\n",
       "      <td>51.0</td>\n",
       "      <td>424</td>\n",
       "      <td>5.0</td>\n",
       "      <td>3.0</td>\n",
       "      <td>0</td>\n",
       "    </tr>\n",
       "    <tr>\n",
       "      <th>56693</th>\n",
       "      <td>1.0</td>\n",
       "      <td>1</td>\n",
       "      <td>0.1</td>\n",
       "      <td>27.0</td>\n",
       "      <td>842</td>\n",
       "      <td>3.0</td>\n",
       "      <td>0.0</td>\n",
       "      <td>0</td>\n",
       "    </tr>\n",
       "    <tr>\n",
       "      <th>3906</th>\n",
       "      <td>1.0</td>\n",
       "      <td>1</td>\n",
       "      <td>0.3</td>\n",
       "      <td>28.0</td>\n",
       "      <td>1060</td>\n",
       "      <td>8.0</td>\n",
       "      <td>0.0</td>\n",
       "      <td>0</td>\n",
       "    </tr>\n",
       "  </tbody>\n",
       "</table>\n",
       "<p>9659 rows × 8 columns</p>\n",
       "</div>"
      ],
      "text/plain": [
       "       const  EmailCampFactorize  Subject_Hotness_Score  \\\n",
       "64266    1.0                   0                    2.4   \n",
       "19361    1.0                   0                    3.1   \n",
       "34064    1.0                   1                    0.1   \n",
       "51239    1.0                   0                    1.5   \n",
       "33179    1.0                   0                    1.3   \n",
       "...      ...                 ...                    ...   \n",
       "24698    1.0                   0                    1.3   \n",
       "2023     1.0                   0                    0.4   \n",
       "11500    1.0                   0                    0.4   \n",
       "56693    1.0                   1                    0.1   \n",
       "3906     1.0                   1                    0.3   \n",
       "\n",
       "       Total_Past_Communications  Word_Count  Total_Links  Total_Images  \\\n",
       "64266                       18.0        1103         14.0           4.0   \n",
       "19361                       25.0         694         11.0           2.0   \n",
       "34064                       49.0         610          6.0           0.0   \n",
       "51239                       24.0        1014         31.0          21.0   \n",
       "33179                       42.0         519         16.0           0.0   \n",
       "...                          ...         ...          ...           ...   \n",
       "24698                       54.0         194         21.0           8.0   \n",
       "2023                        17.0        1216          6.0           0.0   \n",
       "11500                       51.0         424          5.0           3.0   \n",
       "56693                       27.0         842          3.0           0.0   \n",
       "3906                        28.0        1060          8.0           0.0   \n",
       "\n",
       "       Conversion  \n",
       "64266           0  \n",
       "19361           0  \n",
       "34064           0  \n",
       "51239           0  \n",
       "33179           0  \n",
       "...           ...  \n",
       "24698           0  \n",
       "2023            0  \n",
       "11500           0  \n",
       "56693           0  \n",
       "3906            0  \n",
       "\n",
       "[9659 rows x 8 columns]"
      ]
     },
     "execution_count": 25,
     "metadata": {},
     "output_type": "execute_result"
    }
   ],
   "source": [
    "all_features_test"
   ]
  },
  {
   "cell_type": "markdown",
   "metadata": {},
   "source": [
    "**2.  Build, interpret and score a logistic regression model!** <br>\n",
    "&nbsp;&nbsp;&nbsp;&nbsp;&nbsp;&nbsp;**a.** **(`5 pts`)** Build a Logistic Regression using statsmodels (statsmodels.api).  What data split from question 1d should you include for the training? Why?<br>"
   ]
  },
  {
   "cell_type": "code",
   "execution_count": 26,
   "metadata": {
    "application/vnd.databricks.v1+cell": {
     "inputWidgets": {},
     "nuid": "286b2772-1d5a-4b94-8775-f1cbe52e75de",
     "showTitle": false,
     "title": ""
    }
   },
   "outputs": [
    {
     "name": "stdout",
     "output_type": "stream",
     "text": [
      "Optimization terminated successfully.\n",
      "         Current function value: 0.141673\n",
      "         Iterations 9\n"
     ]
    }
   ],
   "source": [
    "logit = sm.Logit(all_features_train['Conversion'],all_features_train[['EmailCampFactorize','Subject_Hotness_Score', \\\n",
    "                'Total_Past_Communications','Word_Count','Total_Links', 'Total_Images']])\n",
    "logit_fit = logit.fit()"
   ]
  },
  {
   "cell_type": "code",
   "execution_count": 27,
   "metadata": {},
   "outputs": [],
   "source": [
    "#The data split that i used is the 80% meant for training. It has enough rows to create a model, hopefully not overfitting\n",
    "#which will allow us to predict \"unseen\" data. We can probably use the testing data to predict and measure accuracy"
   ]
  },
  {
   "cell_type": "markdown",
   "metadata": {},
   "source": [
    "&nbsp;&nbsp;&nbsp;&nbsp;&nbsp;&nbsp;**b.**  Using the Model Summary answer the following questions <br>\n",
    "You can provide your answer as a comment (`# Anything following a hash mark is a comment`) or in any other manner you like."
   ]
  },
  {
   "cell_type": "code",
   "execution_count": 28,
   "metadata": {},
   "outputs": [
    {
     "data": {
      "text/html": [
       "<table class=\"simpletable\">\n",
       "<caption>Logit Regression Results</caption>\n",
       "<tr>\n",
       "  <th>Dep. Variable:</th>      <td>Conversion</td>    <th>  No. Observations:  </th>   <td> 38632</td>  \n",
       "</tr>\n",
       "<tr>\n",
       "  <th>Model:</th>                 <td>Logit</td>      <th>  Df Residuals:      </th>   <td> 38626</td>  \n",
       "</tr>\n",
       "<tr>\n",
       "  <th>Method:</th>                 <td>MLE</td>       <th>  Df Model:          </th>   <td>     5</td>  \n",
       "</tr>\n",
       "<tr>\n",
       "  <th>Date:</th>            <td>Wed, 26 Apr 2023</td> <th>  Pseudo R-squ.:     </th>   <td>0.06453</td> \n",
       "</tr>\n",
       "<tr>\n",
       "  <th>Time:</th>                <td>20:52:10</td>     <th>  Log-Likelihood:    </th>  <td> -5473.1</td> \n",
       "</tr>\n",
       "<tr>\n",
       "  <th>converged:</th>             <td>True</td>       <th>  LL-Null:           </th>  <td> -5850.7</td> \n",
       "</tr>\n",
       "<tr>\n",
       "  <th>Covariance Type:</th>     <td>nonrobust</td>    <th>  LLR p-value:       </th> <td>5.846e-161</td>\n",
       "</tr>\n",
       "</table>\n",
       "<table class=\"simpletable\">\n",
       "<tr>\n",
       "              <td></td>                 <th>coef</th>     <th>std err</th>      <th>z</th>      <th>P>|z|</th>  <th>[0.025</th>    <th>0.975]</th>  \n",
       "</tr>\n",
       "<tr>\n",
       "  <th>EmailCampFactorize</th>        <td>    0.3410</td> <td>    0.050</td> <td>    6.816</td> <td> 0.000</td> <td>    0.243</td> <td>    0.439</td>\n",
       "</tr>\n",
       "<tr>\n",
       "  <th>Subject_Hotness_Score</th>     <td>   -1.1087</td> <td>    0.046</td> <td>  -23.993</td> <td> 0.000</td> <td>   -1.199</td> <td>   -1.018</td>\n",
       "</tr>\n",
       "<tr>\n",
       "  <th>Total_Past_Communications</th> <td>   -0.0169</td> <td>    0.001</td> <td>  -11.278</td> <td> 0.000</td> <td>   -0.020</td> <td>   -0.014</td>\n",
       "</tr>\n",
       "<tr>\n",
       "  <th>Word_Count</th>                <td>   -0.0030</td> <td> 8.78e-05</td> <td>  -34.105</td> <td> 0.000</td> <td>   -0.003</td> <td>   -0.003</td>\n",
       "</tr>\n",
       "<tr>\n",
       "  <th>Total_Links</th>               <td>   -0.0210</td> <td>    0.007</td> <td>   -2.839</td> <td> 0.005</td> <td>   -0.036</td> <td>   -0.007</td>\n",
       "</tr>\n",
       "<tr>\n",
       "  <th>Total_Images</th>              <td>    0.0291</td> <td>    0.008</td> <td>    3.571</td> <td> 0.000</td> <td>    0.013</td> <td>    0.045</td>\n",
       "</tr>\n",
       "</table>"
      ],
      "text/plain": [
       "<class 'statsmodels.iolib.summary.Summary'>\n",
       "\"\"\"\n",
       "                           Logit Regression Results                           \n",
       "==============================================================================\n",
       "Dep. Variable:             Conversion   No. Observations:                38632\n",
       "Model:                          Logit   Df Residuals:                    38626\n",
       "Method:                           MLE   Df Model:                            5\n",
       "Date:                Wed, 26 Apr 2023   Pseudo R-squ.:                 0.06453\n",
       "Time:                        20:52:10   Log-Likelihood:                -5473.1\n",
       "converged:                       True   LL-Null:                       -5850.7\n",
       "Covariance Type:            nonrobust   LLR p-value:                5.846e-161\n",
       "=============================================================================================\n",
       "                                coef    std err          z      P>|z|      [0.025      0.975]\n",
       "---------------------------------------------------------------------------------------------\n",
       "EmailCampFactorize            0.3410      0.050      6.816      0.000       0.243       0.439\n",
       "Subject_Hotness_Score        -1.1087      0.046    -23.993      0.000      -1.199      -1.018\n",
       "Total_Past_Communications    -0.0169      0.001    -11.278      0.000      -0.020      -0.014\n",
       "Word_Count                   -0.0030   8.78e-05    -34.105      0.000      -0.003      -0.003\n",
       "Total_Links                  -0.0210      0.007     -2.839      0.005      -0.036      -0.007\n",
       "Total_Images                  0.0291      0.008      3.571      0.000       0.013       0.045\n",
       "=============================================================================================\n",
       "\"\"\""
      ]
     },
     "execution_count": 28,
     "metadata": {},
     "output_type": "execute_result"
    }
   ],
   "source": [
    "logit_fit.summary()"
   ]
  },
  {
   "cell_type": "markdown",
   "metadata": {},
   "source": [
    "\n",
    "&nbsp;&nbsp;&nbsp;&nbsp;&nbsp;&nbsp;&nbsp;&nbsp;&nbsp;&nbsp;&nbsp;&nbsp;**i.** **(`2 pts`)** which variables have a statistically significant positive correlation with the target\n",
    "<br>"
   ]
  },
  {
   "cell_type": "code",
   "execution_count": 29,
   "metadata": {},
   "outputs": [],
   "source": [
    "#Email Campaign Factorized and Total Images have a positive correlation that are \n",
    "#statistically significant at the 0.05 level"
   ]
  },
  {
   "cell_type": "markdown",
   "metadata": {},
   "source": [
    "&nbsp;&nbsp;&nbsp;&nbsp;&nbsp;&nbsp;&nbsp;&nbsp;&nbsp;&nbsp;&nbsp;&nbsp;**ii.** **(`2 pts`)**\n",
    "which variables have a statistically significant negative correlation with the target?"
   ]
  },
  {
   "cell_type": "code",
   "execution_count": 30,
   "metadata": {},
   "outputs": [],
   "source": [
    "#The numerical variables (Subject Hotness Score, Total Past Communication, Word Count, Total Links)\n",
    "#are statistically significant at the 0.05 level"
   ]
  },
  {
   "cell_type": "markdown",
   "metadata": {},
   "source": [
    "&nbsp;&nbsp;&nbsp;&nbsp;&nbsp;&nbsp;&nbsp;&nbsp;&nbsp;&nbsp;&nbsp;&nbsp;**iii.** **(`2 pts`)**\n",
    "What does it mean for a variable to be statistically significant?"
   ]
  },
  {
   "cell_type": "code",
   "execution_count": 31,
   "metadata": {},
   "outputs": [],
   "source": [
    "#Statistiscally significant means that the independent variable has some explanatory power to the dependent\n",
    "#variable which in this case is conversion"
   ]
  },
  {
   "cell_type": "markdown",
   "metadata": {},
   "source": [
    "&nbsp;&nbsp;&nbsp;&nbsp;&nbsp;&nbsp;&nbsp;&nbsp;&nbsp;&nbsp;&nbsp;&nbsp;**iv.** **(`4 pts`)**\n",
    "What suggestions can you make based on these results? "
   ]
  },
  {
   "cell_type": "code",
   "execution_count": 32,
   "metadata": {},
   "outputs": [],
   "source": [
    "#Email Camp Factorize can influence conversion. Given coefficient is closer to 0, i would recommend campaign type 2.\n",
    "#As for the numerical variables, i would want the campaign to have more graphics given the positive\n",
    "#coefficient in total images. However, i would recommend for the campaign not to be wordy and lessen the links.\n",
    "#In addition, the hotness score should be lowered as well as targeting clients with less prior interaction"
   ]
  },
  {
   "cell_type": "markdown",
   "metadata": {},
   "source": [
    "&nbsp;&nbsp;&nbsp;&nbsp;&nbsp;&nbsp;**c.** **(`5 pts`)** Use your model to get predictions for the test data. <br>\n",
    "Get predictions by applying the model you just fit to the _test_ data.  Save the predictions to a variable.<br>"
   ]
  },
  {
   "cell_type": "code",
   "execution_count": 47,
   "metadata": {},
   "outputs": [
    {
     "name": "stdout",
     "output_type": "stream",
     "text": [
      "367.27964726370965\n"
     ]
    }
   ],
   "source": [
    "# performing predictions on the test dataset\n",
    "Xtest = all_features_test[['EmailCampFactorize','Subject_Hotness_Score','Total_Past_Communications' \\\n",
    "                           ,'Word_Count','Total_Links', 'Total_Images']]\n",
    "yhat = logit_fit.predict(Xtest)\n",
    "prediction = list((yhat))\n",
    "print(sum(prediction)) \n",
    "#only 8 predictions when we do a rounding but sum is 367.3 if no rounding \n",
    "#which means there are a lot of low probabilities\n",
    "\n",
    "#print(all_features_test['Conversion'],prediction)"
   ]
  },
  {
   "cell_type": "markdown",
   "metadata": {},
   "source": [
    "&nbsp;&nbsp;&nbsp;&nbsp;&nbsp;&nbsp;**d.**  **(`5 pts`)** The ROC AUC score informs you as to how good your model is at telling which emails are more likely to result in conversions than others. Use the function within Scikit-Learn to plot this.<br>\n",
    "Describe how you would expect the curve to change for a more performant model."
   ]
  },
  {
   "cell_type": "code",
   "execution_count": 34,
   "metadata": {},
   "outputs": [],
   "source": [
    "from sklearn.metrics import roc_curve, auc"
   ]
  },
  {
   "cell_type": "code",
   "execution_count": 35,
   "metadata": {},
   "outputs": [
    {
     "name": "stdout",
     "output_type": "stream",
     "text": [
      "roc_auc: 0.724\n"
     ]
    }
   ],
   "source": [
    "fpr, tpr, threshold = roc_curve(all_features_test['Conversion'], prediction)\n",
    "roc_auc = auc(fpr,tpr)\n",
    "print(\"roc_auc: %0.3f\" % roc_auc)"
   ]
  },
  {
   "cell_type": "code",
   "execution_count": 36,
   "metadata": {},
   "outputs": [
    {
     "data": {
      "image/png": "[encoded data removed]",
      "text/plain": [
       "<Figure size 720x504 with 1 Axes>"
      ]
     },
     "metadata": {
      "needs_background": "light"
     },
     "output_type": "display_data"
    }
   ],
   "source": [
    "plt.figure(figsize=(10,7))\n",
    "\n",
    "plt.plot(fpr, tpr, color='darkorange', label='ROC curve (area = %0.3f)' % roc_auc)\n",
    "\n",
    "plt.plot([0, 1], [0, 1], color='gray', lw=1, linestyle='--')\n",
    "plt.grid()\n",
    "plt.xlim([0.0, 1.0])\n",
    "plt.ylim([0.0, 1.05])\n",
    "plt.xlabel('False Positive Rate')\n",
    "plt.ylabel('True Positive Rate')\n",
    "plt.title('ROC Curve')\n",
    "plt.legend(loc=\"lower right\")\n",
    "\n",
    "plt.show()"
   ]
  },
  {
   "cell_type": "code",
   "execution_count": 37,
   "metadata": {},
   "outputs": [],
   "source": [
    "#For a better model, i would want a higher AUC. As the graph shows, i would want something that shows more true\n",
    "#positive rate. This means that my predictions are more aligned to what the actual is. Based on the book, it\n",
    "#will be a concave curve that peaks where sensitivity and specificity is maximize."
   ]
  }
 ],
 "metadata": {
  "application/vnd.databricks.v1+notebook": {
   "dashboards": [],
   "language": "python",
   "notebookName": "coding challenge",
   "notebookOrigID": 3716877220258601,
   "widgets": {}
  },
  "kernelspec": {
   "display_name": "Python 3 (ipykernel)",
   "language": "python",
   "name": "python3"
  },
  "language_info": {
   "codemirror_mode": {
    "name": "ipython",
    "version": 3
   },
   "file_extension": ".py",
   "mimetype": "text/x-python",
   "name": "python",
   "nbconvert_exporter": "python",
   "pygments_lexer": "ipython3",
   "version": "3.9.12"
  }
 },
 "nbformat": 4,
 "nbformat_minor": 1
}
