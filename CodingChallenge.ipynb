{
  "cells": [
    {
      "cell_type": "markdown",
      "metadata": {
        "application/vnd.databricks.v1+cell": {
          "inputWidgets": {},
          "nuid": "189601c3-be27-4da5-8cc7-f0b6f87b6102",
          "showTitle": false,
          "title": ""
        },
        "id": "Av1jE4ZoK4nI"
      },
      "source": [
        "# ISMT E-111 Coding Challenge 2023\n",
        "### Due: 2023-05-02 8pm ET\n",
        "#### Make sure to include any relevant code when providing all answers.\n",
        "Enter your code into *this* notebook **AND** enter your name in the following cell\n",
        "\n",
        "#### Always show your work, and if there is a question being asked be sure to answer it.\n",
        "You can answer with a comment, print statement or markdown cell <br>(remember a comment is preceded by a hash symbol `#here is my comment`)\n",
        "\n",
        "\n",
        "### Challenge is out of 150 points \n",
        "  * **100 points for the main challenge**\n",
        "  * **50 bonus points for extra credit**\n",
        " \n",
        "#### Notes\n",
        "* Dont worry about missing values, they're addressed in the Extra Credit portion\n",
        "\n",
        "#### Submission\n",
        "* Send this completed .ipynb (with all cells run and outputs visible) to ujas_shah@g.harvard.edu with your first and last name in the filename (e.g., `ujas_shah_codingchallenge_s2023.ipynb`) **AND** also submit a pull request with the updated notebook on to the repository.\n",
        "* If you cant find the location of this notebook you can run the following to find your notebook:<br> \n",
        "`import os`<br>\n",
        "`print(os.getcwd())`<br>\n",
        "Drag and drop that .ipynb file into your email"
      ]
    },
    {
      "cell_type": "code",
      "execution_count": 1,
      "metadata": {
        "id": "F9YM5onzK4nK"
      },
      "outputs": [],
      "source": [
        "#name: Khaled Arnaout"
      ]
    },
    {
      "cell_type": "markdown",
      "metadata": {
        "application/vnd.databricks.v1+cell": {
          "inputWidgets": {},
          "nuid": "d9e01958-0f72-4095-a493-f0884466db78",
          "showTitle": false,
          "title": ""
        },
        "id": "OhZeTJKxK4nL"
      },
      "source": [
        "### 1. Load your Data and Take a Look\n",
        "\n",
        "&nbsp;&nbsp;&nbsp;&nbsp;&nbsp;&nbsp;**a.** **(`10 pts`)** Load the training data (found in the same github repo as this notebook) into this notebook using Pandas. \n",
        "\n",
        "&nbsp;&nbsp;&nbsp;&nbsp;&nbsp;&nbsp;**b.** **(`5 pts`)** Show the first 10 lines of the data."
      ]
    },
    {
      "cell_type": "code",
      "execution_count": 2,
      "metadata": {
        "colab": {
          "base_uri": "https://localhost:8080/",
          "height": 427
        },
        "id": "iPnP9wtoK4nL",
        "outputId": "8246b325-bccb-4664-a81b-15635cef0dbe"
      },
      "outputs": [
        {
          "output_type": "execute_result",
          "data": {
            "text/plain": [
              "            Email_ID  Email_Type  Subject_Hotness_Score  Email_Source_Type  \\\n",
              "0  EMA00081000034500           1                    2.2                  2   \n",
              "1  EMA00081000045360           2                    2.1                  1   \n",
              "2  EMA00081000066290           2                    0.1                  1   \n",
              "3  EMA00081000076560           1                    3.0                  2   \n",
              "4  EMA00081000109720           1                    0.0                  2   \n",
              "5  EMA00081000131660           1                    1.5                  1   \n",
              "6  EMA00081000160500           1                    3.2                  1   \n",
              "7  EMA00081000269630           1                    0.7                  2   \n",
              "8  EMA00081000287790           1                    2.0                  1   \n",
              "9  EMA00081000367310           2                    0.5                  1   \n",
              "\n",
              "  Customer_Location  Email_Campaign_Type  Total_Past_Communications  \\\n",
              "0                 E                    2                       33.0   \n",
              "1               NaN                    2                       15.0   \n",
              "2                 B                    3                       36.0   \n",
              "3                 E                    2                       25.0   \n",
              "4                 C                    3                       18.0   \n",
              "5                 G                    2                        NaN   \n",
              "6                 E                    2                       34.0   \n",
              "7                 G                    2                       21.0   \n",
              "8                 G                    2                        NaN   \n",
              "9                 G                    2                       40.0   \n",
              "\n",
              "   Time_Email_sent_Category  Word_Count  Total_Links  Total_Images  \\\n",
              "0                         1         440          8.0           0.0   \n",
              "1                         2         504          5.0           0.0   \n",
              "2                         2         962          5.0           0.0   \n",
              "3                         2         610         16.0           0.0   \n",
              "4                         2         947          4.0           0.0   \n",
              "5                         2         416         11.0           0.0   \n",
              "6                         3         116          4.0           0.0   \n",
              "7                         2        1241          6.0           2.0   \n",
              "8                         3         655         11.0           4.0   \n",
              "9                         3         655         11.0           0.0   \n",
              "\n",
              "   Email_Status  \n",
              "0             0  \n",
              "1             0  \n",
              "2             1  \n",
              "3             0  \n",
              "4             0  \n",
              "5             0  \n",
              "6             0  \n",
              "7             0  \n",
              "8             0  \n",
              "9             0  "
            ],
            "text/html": [
              "\n",
              "  <div id=\"df-3a2cee06-4053-47b0-b5e4-dc27826b2d83\">\n",
              "    <div class=\"colab-df-container\">\n",
              "      <div>\n",
              "<style scoped>\n",
              "    .dataframe tbody tr th:only-of-type {\n",
              "        vertical-align: middle;\n",
              "    }\n",
              "\n",
              "    .dataframe tbody tr th {\n",
              "        vertical-align: top;\n",
              "    }\n",
              "\n",
              "    .dataframe thead th {\n",
              "        text-align: right;\n",
              "    }\n",
              "</style>\n",
              "<table border=\"1\" class=\"dataframe\">\n",
              "  <thead>\n",
              "    <tr style=\"text-align: right;\">\n",
              "      <th></th>\n",
              "      <th>Email_ID</th>\n",
              "      <th>Email_Type</th>\n",
              "      <th>Subject_Hotness_Score</th>\n",
              "      <th>Email_Source_Type</th>\n",
              "      <th>Customer_Location</th>\n",
              "      <th>Email_Campaign_Type</th>\n",
              "      <th>Total_Past_Communications</th>\n",
              "      <th>Time_Email_sent_Category</th>\n",
              "      <th>Word_Count</th>\n",
              "      <th>Total_Links</th>\n",
              "      <th>Total_Images</th>\n",
              "      <th>Email_Status</th>\n",
              "    </tr>\n",
              "  </thead>\n",
              "  <tbody>\n",
              "    <tr>\n",
              "      <th>0</th>\n",
              "      <td>EMA00081000034500</td>\n",
              "      <td>1</td>\n",
              "      <td>2.2</td>\n",
              "      <td>2</td>\n",
              "      <td>E</td>\n",
              "      <td>2</td>\n",
              "      <td>33.0</td>\n",
              "      <td>1</td>\n",
              "      <td>440</td>\n",
              "      <td>8.0</td>\n",
              "      <td>0.0</td>\n",
              "      <td>0</td>\n",
              "    </tr>\n",
              "    <tr>\n",
              "      <th>1</th>\n",
              "      <td>EMA00081000045360</td>\n",
              "      <td>2</td>\n",
              "      <td>2.1</td>\n",
              "      <td>1</td>\n",
              "      <td>NaN</td>\n",
              "      <td>2</td>\n",
              "      <td>15.0</td>\n",
              "      <td>2</td>\n",
              "      <td>504</td>\n",
              "      <td>5.0</td>\n",
              "      <td>0.0</td>\n",
              "      <td>0</td>\n",
              "    </tr>\n",
              "    <tr>\n",
              "      <th>2</th>\n",
              "      <td>EMA00081000066290</td>\n",
              "      <td>2</td>\n",
              "      <td>0.1</td>\n",
              "      <td>1</td>\n",
              "      <td>B</td>\n",
              "      <td>3</td>\n",
              "      <td>36.0</td>\n",
              "      <td>2</td>\n",
              "      <td>962</td>\n",
              "      <td>5.0</td>\n",
              "      <td>0.0</td>\n",
              "      <td>1</td>\n",
              "    </tr>\n",
              "    <tr>\n",
              "      <th>3</th>\n",
              "      <td>EMA00081000076560</td>\n",
              "      <td>1</td>\n",
              "      <td>3.0</td>\n",
              "      <td>2</td>\n",
              "      <td>E</td>\n",
              "      <td>2</td>\n",
              "      <td>25.0</td>\n",
              "      <td>2</td>\n",
              "      <td>610</td>\n",
              "      <td>16.0</td>\n",
              "      <td>0.0</td>\n",
              "      <td>0</td>\n",
              "    </tr>\n",
              "    <tr>\n",
              "      <th>4</th>\n",
              "      <td>EMA00081000109720</td>\n",
              "      <td>1</td>\n",
              "      <td>0.0</td>\n",
              "      <td>2</td>\n",
              "      <td>C</td>\n",
              "      <td>3</td>\n",
              "      <td>18.0</td>\n",
              "      <td>2</td>\n",
              "      <td>947</td>\n",
              "      <td>4.0</td>\n",
              "      <td>0.0</td>\n",
              "      <td>0</td>\n",
              "    </tr>\n",
              "    <tr>\n",
              "      <th>5</th>\n",
              "      <td>EMA00081000131660</td>\n",
              "      <td>1</td>\n",
              "      <td>1.5</td>\n",
              "      <td>1</td>\n",
              "      <td>G</td>\n",
              "      <td>2</td>\n",
              "      <td>NaN</td>\n",
              "      <td>2</td>\n",
              "      <td>416</td>\n",
              "      <td>11.0</td>\n",
              "      <td>0.0</td>\n",
              "      <td>0</td>\n",
              "    </tr>\n",
              "    <tr>\n",
              "      <th>6</th>\n",
              "      <td>EMA00081000160500</td>\n",
              "      <td>1</td>\n",
              "      <td>3.2</td>\n",
              "      <td>1</td>\n",
              "      <td>E</td>\n",
              "      <td>2</td>\n",
              "      <td>34.0</td>\n",
              "      <td>3</td>\n",
              "      <td>116</td>\n",
              "      <td>4.0</td>\n",
              "      <td>0.0</td>\n",
              "      <td>0</td>\n",
              "    </tr>\n",
              "    <tr>\n",
              "      <th>7</th>\n",
              "      <td>EMA00081000269630</td>\n",
              "      <td>1</td>\n",
              "      <td>0.7</td>\n",
              "      <td>2</td>\n",
              "      <td>G</td>\n",
              "      <td>2</td>\n",
              "      <td>21.0</td>\n",
              "      <td>2</td>\n",
              "      <td>1241</td>\n",
              "      <td>6.0</td>\n",
              "      <td>2.0</td>\n",
              "      <td>0</td>\n",
              "    </tr>\n",
              "    <tr>\n",
              "      <th>8</th>\n",
              "      <td>EMA00081000287790</td>\n",
              "      <td>1</td>\n",
              "      <td>2.0</td>\n",
              "      <td>1</td>\n",
              "      <td>G</td>\n",
              "      <td>2</td>\n",
              "      <td>NaN</td>\n",
              "      <td>3</td>\n",
              "      <td>655</td>\n",
              "      <td>11.0</td>\n",
              "      <td>4.0</td>\n",
              "      <td>0</td>\n",
              "    </tr>\n",
              "    <tr>\n",
              "      <th>9</th>\n",
              "      <td>EMA00081000367310</td>\n",
              "      <td>2</td>\n",
              "      <td>0.5</td>\n",
              "      <td>1</td>\n",
              "      <td>G</td>\n",
              "      <td>2</td>\n",
              "      <td>40.0</td>\n",
              "      <td>3</td>\n",
              "      <td>655</td>\n",
              "      <td>11.0</td>\n",
              "      <td>0.0</td>\n",
              "      <td>0</td>\n",
              "    </tr>\n",
              "  </tbody>\n",
              "</table>\n",
              "</div>\n",
              "      <button class=\"colab-df-convert\" onclick=\"convertToInteractive('df-3a2cee06-4053-47b0-b5e4-dc27826b2d83')\"\n",
              "              title=\"Convert this dataframe to an interactive table.\"\n",
              "              style=\"display:none;\">\n",
              "        \n",
              "  <svg xmlns=\"http://www.w3.org/2000/svg\" height=\"24px\"viewBox=\"0 0 24 24\"\n",
              "       width=\"24px\">\n",
              "    <path d=\"M0 0h24v24H0V0z\" fill=\"none\"/>\n",
              "    <path d=\"M18.56 5.44l.94 2.06.94-2.06 2.06-.94-2.06-.94-.94-2.06-.94 2.06-2.06.94zm-11 1L8.5 8.5l.94-2.06 2.06-.94-2.06-.94L8.5 2.5l-.94 2.06-2.06.94zm10 10l.94 2.06.94-2.06 2.06-.94-2.06-.94-.94-2.06-.94 2.06-2.06.94z\"/><path d=\"M17.41 7.96l-1.37-1.37c-.4-.4-.92-.59-1.43-.59-.52 0-1.04.2-1.43.59L10.3 9.45l-7.72 7.72c-.78.78-.78 2.05 0 2.83L4 21.41c.39.39.9.59 1.41.59.51 0 1.02-.2 1.41-.59l7.78-7.78 2.81-2.81c.8-.78.8-2.07 0-2.86zM5.41 20L4 18.59l7.72-7.72 1.47 1.35L5.41 20z\"/>\n",
              "  </svg>\n",
              "      </button>\n",
              "      \n",
              "  <style>\n",
              "    .colab-df-container {\n",
              "      display:flex;\n",
              "      flex-wrap:wrap;\n",
              "      gap: 12px;\n",
              "    }\n",
              "\n",
              "    .colab-df-convert {\n",
              "      background-color: #E8F0FE;\n",
              "      border: none;\n",
              "      border-radius: 50%;\n",
              "      cursor: pointer;\n",
              "      display: none;\n",
              "      fill: #1967D2;\n",
              "      height: 32px;\n",
              "      padding: 0 0 0 0;\n",
              "      width: 32px;\n",
              "    }\n",
              "\n",
              "    .colab-df-convert:hover {\n",
              "      background-color: #E2EBFA;\n",
              "      box-shadow: 0px 1px 2px rgba(60, 64, 67, 0.3), 0px 1px 3px 1px rgba(60, 64, 67, 0.15);\n",
              "      fill: #174EA6;\n",
              "    }\n",
              "\n",
              "    [theme=dark] .colab-df-convert {\n",
              "      background-color: #3B4455;\n",
              "      fill: #D2E3FC;\n",
              "    }\n",
              "\n",
              "    [theme=dark] .colab-df-convert:hover {\n",
              "      background-color: #434B5C;\n",
              "      box-shadow: 0px 1px 3px 1px rgba(0, 0, 0, 0.15);\n",
              "      filter: drop-shadow(0px 1px 2px rgba(0, 0, 0, 0.3));\n",
              "      fill: #FFFFFF;\n",
              "    }\n",
              "  </style>\n",
              "\n",
              "      <script>\n",
              "        const buttonEl =\n",
              "          document.querySelector('#df-3a2cee06-4053-47b0-b5e4-dc27826b2d83 button.colab-df-convert');\n",
              "        buttonEl.style.display =\n",
              "          google.colab.kernel.accessAllowed ? 'block' : 'none';\n",
              "\n",
              "        async function convertToInteractive(key) {\n",
              "          const element = document.querySelector('#df-3a2cee06-4053-47b0-b5e4-dc27826b2d83');\n",
              "          const dataTable =\n",
              "            await google.colab.kernel.invokeFunction('convertToInteractive',\n",
              "                                                     [key], {});\n",
              "          if (!dataTable) return;\n",
              "\n",
              "          const docLinkHtml = 'Like what you see? Visit the ' +\n",
              "            '<a target=\"_blank\" href=https://colab.research.google.com/notebooks/data_table.ipynb>data table notebook</a>'\n",
              "            + ' to learn more about interactive tables.';\n",
              "          element.innerHTML = '';\n",
              "          dataTable['output_type'] = 'display_data';\n",
              "          await google.colab.output.renderOutput(dataTable, element);\n",
              "          const docLink = document.createElement('div');\n",
              "          docLink.innerHTML = docLinkHtml;\n",
              "          element.appendChild(docLink);\n",
              "        }\n",
              "      </script>\n",
              "    </div>\n",
              "  </div>\n",
              "  "
            ]
          },
          "metadata": {},
          "execution_count": 2
        }
      ],
      "source": [
        "import pandas as pd\n",
        "\n",
        "df = pd.read_csv(\"./codingdata.csv\")\n",
        "df.head(10)"
      ]
    },
    {
      "cell_type": "markdown",
      "metadata": {
        "application/vnd.databricks.v1+cell": {
          "inputWidgets": {},
          "nuid": "f71154a2-ac71-42a9-9f68-f74c8818dab7",
          "showTitle": false,
          "title": ""
        },
        "id": "ING-RVLlK4nM"
      },
      "source": [
        "### 2.  Define and describe your target variable\n",
        "The `email status` column contains three values with the following definitions.  \n",
        "`0=ignored` `1=read` and `2=converted`\n",
        "* Ignored means that the customer did not interact with the email\n",
        "* Read means that a customer opened the email\n",
        "* Converted means that the customer clicked on the link for the product page within the email. \n",
        "\n",
        "The company considers an `email_status` of `2` as a conversion, (statuses 0 and 1 are non-conversions)."
      ]
    },
    {
      "cell_type": "markdown",
      "metadata": {
        "application/vnd.databricks.v1+cell": {
          "inputWidgets": {},
          "nuid": "e7f9719b-1831-4ef0-8600-c02a999fa3ce",
          "showTitle": false,
          "title": ""
        },
        "id": "bT2gPAIwK4nM"
      },
      "source": [
        "&nbsp;&nbsp;&nbsp;&nbsp;&nbsp;&nbsp;**a.** **(`10 pts`)** Create a new column called `conversion` that has a value of `1` when the email was follwed by a conversion and is `0` otherwise."
      ]
    },
    {
      "cell_type": "code",
      "execution_count": 3,
      "metadata": {
        "application/vnd.databricks.v1+cell": {
          "inputWidgets": {},
          "nuid": "05d68f3c-01b1-4c7f-b3fd-ac3e14511861",
          "showTitle": false,
          "title": ""
        },
        "id": "Kj26PAzzK4nM"
      },
      "outputs": [],
      "source": [
        "df[\"Conversion\"] = df[\"Email_Status\"].apply(lambda x:1 if x==2 else 0)"
      ]
    },
    {
      "cell_type": "markdown",
      "metadata": {
        "application/vnd.databricks.v1+cell": {
          "inputWidgets": {},
          "nuid": "659af248-f7af-4df9-aa2a-f72ff215fce4",
          "showTitle": false,
          "title": ""
        },
        "id": "1eo8kwzqK4nN"
      },
      "source": [
        "&nbsp;&nbsp;&nbsp;&nbsp;&nbsp;&nbsp;**b.**  **(`10 pts`)** How many conversions are in this dataset?<br>"
      ]
    },
    {
      "cell_type": "code",
      "execution_count": 4,
      "metadata": {
        "application/vnd.databricks.v1+cell": {
          "inputWidgets": {},
          "nuid": "be5bbcd8-88e4-4236-8d7c-6422a00d491a",
          "showTitle": false,
          "title": ""
        },
        "id": "aW-qPgIjK4nN"
      },
      "outputs": [],
      "source": [
        "count_conversions = df['Conversion'].sum()"
      ]
    },
    {
      "cell_type": "markdown",
      "metadata": {
        "application/vnd.databricks.v1+cell": {
          "inputWidgets": {},
          "nuid": "2f25e64a-688a-4203-a880-ca8c17f3540b",
          "showTitle": false,
          "title": ""
        },
        "id": "hVfoBtN6K4nN"
      },
      "source": [
        "&nbsp;&nbsp;&nbsp;&nbsp;&nbsp;&nbsp;**c.**  **(`10 pts`)** What percent of all emails resulted in a conversion?<br><i>Show output you used to determine this answer and provide your answer as a comment</i>"
      ]
    },
    {
      "cell_type": "code",
      "execution_count": 5,
      "metadata": {
        "colab": {
          "base_uri": "https://localhost:8080/"
        },
        "id": "CBhqSK3GK4nN",
        "outputId": "3d3b315c-456b-4428-ab59-a632c78c6e32"
      },
      "outputs": [
        {
          "output_type": "stream",
          "name": "stdout",
          "text": [
            "3.4716837593082963\n"
          ]
        }
      ],
      "source": [
        "count_total = df['Conversion'].count()\n",
        "percentage_conversion = (count_conversions/count_total)*100\n",
        "print(percentage_conversion)\n",
        "\n",
        "# 3.47 Percentage of emails are resulting in a conversion."
      ]
    },
    {
      "cell_type": "markdown",
      "metadata": {
        "application/vnd.databricks.v1+cell": {
          "inputWidgets": {},
          "nuid": "f207e6a1-20e3-4563-931b-43d9d9272a0a",
          "showTitle": false,
          "title": ""
        },
        "id": "oS_x8tSjK4nO"
      },
      "source": [
        "### 3 Exploration"
      ]
    },
    {
      "cell_type": "markdown",
      "metadata": {
        "application/vnd.databricks.v1+cell": {
          "inputWidgets": {},
          "nuid": "e666c416-a222-461b-a060-249c92ca7266",
          "showTitle": false,
          "title": ""
        },
        "id": "MNbhK73NK4nO"
      },
      "source": [
        "&nbsp;&nbsp;&nbsp;&nbsp;&nbsp;&nbsp;**a.** The `Email_Campaign_Type` column captures the campaign under which the email was sent. A campaign is a marketing strategy.\n",
        "\n",
        "&nbsp;&nbsp;&nbsp;&nbsp;&nbsp;&nbsp;&nbsp;&nbsp;&nbsp;&nbsp;&nbsp;&nbsp;**i.**  **(`15 pts`)** Which campaign had the most conversions?"
      ]
    },
    {
      "cell_type": "code",
      "execution_count": 6,
      "metadata": {
        "application/vnd.databricks.v1+cell": {
          "inputWidgets": {},
          "nuid": "a14b43e9-979c-40b8-a14a-1fb5601e9030",
          "showTitle": false,
          "title": ""
        },
        "colab": {
          "base_uri": "https://localhost:8080/"
        },
        "id": "_vgzCeBJK4nO",
        "outputId": "adcc3289-731a-423e-8852-104ac3885414"
      },
      "outputs": [
        {
          "output_type": "stream",
          "name": "stdout",
          "text": [
            "3\n"
          ]
        }
      ],
      "source": [
        "campaign_conversions = df.groupby('Email_Campaign_Type')['Conversion'].sum()\n",
        "campaign_conversions_sorted = campaign_conversions.sort_values(ascending=False)\n",
        "most_converted_campaign = campaign_conversions_sorted.index[0]\n",
        "print(most_converted_campaign)"
      ]
    },
    {
      "cell_type": "markdown",
      "metadata": {
        "application/vnd.databricks.v1+cell": {
          "inputWidgets": {},
          "nuid": "bf2d66b5-cfb6-4a9f-bb23-42fddce0eb72",
          "showTitle": false,
          "title": ""
        },
        "id": "hAKEOjOGK4nO"
      },
      "source": [
        "&nbsp;&nbsp;&nbsp;&nbsp;&nbsp;&nbsp;&nbsp;&nbsp;&nbsp;&nbsp;&nbsp;&nbsp;**ii.**  **(`15 pts`)** Which campaign has the highest conversion rate?"
      ]
    },
    {
      "cell_type": "code",
      "execution_count": 7,
      "metadata": {
        "application/vnd.databricks.v1+cell": {
          "inputWidgets": {},
          "nuid": "071e3e06-5957-4bdc-82c1-3924061ac580",
          "showTitle": false,
          "title": ""
        },
        "colab": {
          "base_uri": "https://localhost:8080/"
        },
        "id": "QGnfoCYcK4nO",
        "outputId": "18ad96c8-b233-4395-afba-803f62af4e3b"
      },
      "outputs": [
        {
          "output_type": "stream",
          "name": "stdout",
          "text": [
            "1\n"
          ]
        }
      ],
      "source": [
        "campaign_conversion_rate = df.groupby('Email_Campaign_Type')['Conversion'].sum() / df.groupby('Email_Campaign_Type')['Email_ID'].count()\n",
        "campaign_conversion_rate_sorted = campaign_conversion_rate.sort_values(ascending=False)\n",
        "highest_conversion_rate_campaign = campaign_conversion_rate_sorted.index[0]\n",
        "print(highest_conversion_rate_campaign)"
      ]
    },
    {
      "cell_type": "markdown",
      "metadata": {
        "application/vnd.databricks.v1+cell": {
          "inputWidgets": {},
          "nuid": "228dfaee-79ba-4bf6-b31a-c26e1dff3f29",
          "showTitle": false,
          "title": ""
        },
        "id": "y7rhhm1KK4nP"
      },
      "source": [
        "&nbsp;&nbsp;&nbsp;&nbsp;&nbsp;&nbsp;**b**.\n",
        "`Total_Past_Communications` is a count of the number of times the customer has been contacted prior to the current email. \n",
        "\n",
        "&nbsp;&nbsp;&nbsp;&nbsp;&nbsp;&nbsp;&nbsp;&nbsp;&nbsp;&nbsp;&nbsp;&nbsp;**i.** **(`12 pts`)** Create a box plot showing the distribution of `Total_Past_Communications` by `conversion`. \n",
        "\n",
        "&nbsp;&nbsp;&nbsp;&nbsp;&nbsp;&nbsp;&nbsp;&nbsp;&nbsp;&nbsp;&nbsp;&nbsp;**ii** **(`7 pts`)** How do conversions relate to the number of times a customer had been emailed?  Set the title to something that briefly summarizes this relationship. \n",
        "\n",
        "&nbsp;&nbsp;&nbsp;&nbsp;&nbsp;&nbsp;&nbsp;&nbsp;&nbsp;&nbsp;&nbsp;&nbsp;**iii.** **(`3 pts`)** Set the x-label to be `Conversion Status` and the y-label to be `Previous Emails`\n",
        "\n",
        "&nbsp;&nbsp;&nbsp;&nbsp;&nbsp;&nbsp;&nbsp;&nbsp;&nbsp;&nbsp;&nbsp;&nbsp;**iv** **(`3 pts`)** Prevent the default text `'Boxplot grouped by conversion'` from displaying in the title of the boxplot, and do not show extreme values / outliers.  Then show your plot!\n",
        "\n",
        "_note: the output should be one boxplot, rather than one boxplot per sub-question_"
      ]
    },
    {
      "cell_type": "code",
      "execution_count": 8,
      "metadata": {
        "colab": {
          "base_uri": "https://localhost:8080/",
          "height": 462
        },
        "id": "WvL3BkihK4nP",
        "outputId": "ceaa0e44-49b6-4f35-8b14-d35490bd88ac"
      },
      "outputs": [
        {
          "output_type": "display_data",
          "data": {
            "text/plain": [
              "<Figure size 640x480 with 1 Axes>"
            ],
            "image/png": "[encoded data removed]"
          },
          "metadata": {}
        }
      ],
      "source": [
        "import matplotlib.pyplot as plt\n",
        "\n",
        "# 3b (i)\n",
        "df.boxplot(column='Total_Past_Communications', by='Conversion', showfliers=False)\n",
        "\n",
        "# 3b (ii) \n",
        "# There seems to be a slight positive correlation between the number of times a customer has been emailed and the conversion rate. Customers who were contacted more times tended to have a slightly higher conversion rate than those who were contacted less frequently.\n",
        "plt.title(\"Relationship between previous emails and conversion\")\n",
        "\n",
        "# 3b (iii)\n",
        "plt.xlabel(\"Conversion Status\")\n",
        "plt.ylabel(\"Previous Emails\")\n",
        "\n",
        "# 3b (iv)\n",
        "plt.suptitle(\"\")\n",
        "\n",
        "# Display the plot\n",
        "plt.show()\n",
        "\n"
      ]
    },
    {
      "cell_type": "markdown",
      "metadata": {
        "id": "vvc6_YJfK4nP"
      },
      "source": [
        "***\n",
        "You're done!  You can relax and submit this assignment! <br>If you're feeling ambitious, you can try your hand at the _extra credit_ portion below.  "
      ]
    },
    {
      "cell_type": "markdown",
      "metadata": {
        "application/vnd.databricks.v1+cell": {
          "inputWidgets": {},
          "nuid": "180af1b5-c419-466e-8ed4-3ac0d60ddbae",
          "showTitle": false,
          "title": ""
        },
        "id": "9vfZcSXDK4nP"
      },
      "source": [
        "***\n",
        "# Extra Credit: Build, Interpret and Assess a Machine Learning Model to Predict Conversion Rate\n",
        "\n",
        "**1.  Data Cleaning & Prep** \n",
        "We'll be encoding a categorical variable, joining it to all of our numerical variables and generating a train-test split to train and test our model.<br>"
      ]
    },
    {
      "cell_type": "markdown",
      "metadata": {
        "id": "7seQIj9bK4nP"
      },
      "source": [
        "&nbsp;&nbsp;&nbsp;&nbsp;&nbsp;&nbsp;**a.** **(`5 pts`)** Which columns are categorical columns and which are numerical? Create a list of categorical column names and a list of numerical column names. Ignore the following columns: `Email_ID`, `Email_Status`, `conversion`.  You should have ten columns to categorize.  Save each list to a variable (e.g., `my_var = ['a', 'b', 'c']`)"
      ]
    },
    {
      "cell_type": "code",
      "execution_count": 9,
      "metadata": {
        "application/vnd.databricks.v1+cell": {
          "inputWidgets": {},
          "nuid": "20927b18-3168-42ae-a869-378f470a5fa3",
          "showTitle": false,
          "title": ""
        },
        "id": "yaMqUqlsK4nP"
      },
      "outputs": [],
      "source": [
        "categorical_cols = ['Email_Type', 'Email_Source_Type', 'Customer_Location', 'Email_Campaign_Type', 'Time_Email_sent_Category']\n",
        "numerical_cols = ['Subject_Hotness_Score', 'Total_Past_Communications', 'Word_Count', 'Total_Links', 'Total_Images']"
      ]
    },
    {
      "cell_type": "markdown",
      "metadata": {
        "id": "a6AtlolfK4nQ"
      },
      "source": [
        "&nbsp;&nbsp;&nbsp;&nbsp;&nbsp;&nbsp;**b.** **(`2.5 pts`)** A few of the columns have missing values, let's just drop them.  Hint: a pandas method can do this for you."
      ]
    },
    {
      "cell_type": "code",
      "execution_count": 10,
      "metadata": {
        "application/vnd.databricks.v1+cell": {
          "inputWidgets": {},
          "nuid": "454044e9-8fc4-4832-b99a-61c039c87250",
          "showTitle": false,
          "title": ""
        },
        "id": "lks4oH4WK4nQ"
      },
      "outputs": [],
      "source": [
        "df.dropna(inplace=True)"
      ]
    },
    {
      "cell_type": "markdown",
      "metadata": {
        "id": "5IP1IVQ1K4nQ"
      },
      "source": [
        "&nbsp;&nbsp;&nbsp;&nbsp;&nbsp;&nbsp;**c.** **(`10 pts`)** Add dummy variables for the `Email_Campaign_Type` column. <br>\n",
        "&nbsp;&nbsp;&nbsp;&nbsp;&nbsp;&nbsp;**Hint**: a pandas method can help you do this as well. <br>\n",
        "&nbsp;&nbsp;&nbsp;&nbsp;&nbsp;&nbsp;Also, should you create dummy columns for all the different values of the categorical variable for a logistic regression? Why or why not?<br>\n",
        "&nbsp;&nbsp;&nbsp;&nbsp;&nbsp;&nbsp;Create a variable called `all_features` that is a list of all the variables we want to use in our model.  This will be all numerical variables and the dummy variables.  Print the variable (i.e., `print(all_features)`).  <br>\n"
      ]
    },
    {
      "cell_type": "code",
      "execution_count": 11,
      "metadata": {
        "colab": {
          "base_uri": "https://localhost:8080/"
        },
        "id": "byoYoS62K4nQ",
        "outputId": "5ee07f6b-e87f-4c07-9ae0-615ca784b37f"
      },
      "outputs": [
        {
          "output_type": "stream",
          "name": "stdout",
          "text": [
            "['Subject_Hotness_Score', 'Total_Past_Communications', 'Word_Count', 'Total_Links', 'Total_Images', 'Campaign_2', 'Campaign_3']\n"
          ]
        }
      ],
      "source": [
        "campaign_dummies = pd.get_dummies(df['Email_Campaign_Type'], prefix='Campaign', drop_first=True)\n",
        "data = pd.concat([df, campaign_dummies], axis=1)\n",
        "\n",
        "# We do not need to create dummy variables for all the different values of the categorical variables, as this can lead to multicollinearity in the model. Multicollinearity occurs when two or more variables in the model are highly correlated with each other. This can make it difficult to interpret the coefficients of the model, and can lead to overfitting. It is generally recommended to exclude one category as the reference category, and create dummy variables for the remaining categories.\n",
        "\n",
        "all_features = numerical_cols + list(campaign_dummies.columns)\n",
        "print(all_features)"
      ]
    },
    {
      "cell_type": "markdown",
      "metadata": {
        "id": "rR48yLHXK4nR"
      },
      "source": [
        "&nbsp;&nbsp;&nbsp;&nbsp;&nbsp;&nbsp;**d.** **(`7.5 pts`)** Split the dataframe into 80% training data and 20% testing data using the Sci-kit learn `train_test_split` function. When you pass the data to be split, be sure to add an intercept!  \n",
        "To do this simply pass `sm.add_constant(df[all_features])` (where `sm` is the alias for `statsmodels.api`) instead of just `df[all_features]` (in other words, `df[all_features]` is your modeling dataframe subset to the features you will use to model).  \n",
        "Finally, add the following argument to train_test_split:  `random_state=42`\n",
        "\n",
        "*print the number of rows and columns in all the dataframes you created in this step*"
      ]
    },
    {
      "cell_type": "code",
      "execution_count": 12,
      "metadata": {
        "colab": {
          "base_uri": "https://localhost:8080/"
        },
        "id": "QnXuo5-iK4nR",
        "outputId": "590b42a1-062d-4c01-e855-47e22d0cc479"
      },
      "outputs": [
        {
          "output_type": "stream",
          "name": "stdout",
          "text": [
            "Shape of X_train:  (38632, 8)\n",
            "Shape of y_train:  (38632,)\n",
            "Shape of X_test:  (9659, 8)\n",
            "Shape of y_test:  (9659,)\n"
          ]
        }
      ],
      "source": [
        "import statsmodels.api as sm\n",
        "from sklearn.model_selection import train_test_split\n",
        "X = sm.add_constant(data[all_features])\n",
        "y = data['Conversion']\n",
        "X_train, X_test, y_train, y_test = train_test_split(X, y, test_size=0.2, random_state=42)\n",
        "\n",
        "print(\"Shape of X_train: \", X_train.shape)\n",
        "print(\"Shape of y_train: \", y_train.shape)\n",
        "print(\"Shape of X_test: \", X_test.shape)\n",
        "print(\"Shape of y_test: \", y_test.shape)"
      ]
    },
    {
      "cell_type": "markdown",
      "metadata": {
        "id": "HmLD7jvaK4nR"
      },
      "source": [
        "**2.  Build, interpret and score a logistic regression model!** <br>\n",
        "&nbsp;&nbsp;&nbsp;&nbsp;&nbsp;&nbsp;**a.** **(`5 pts`)** Build a Logistic Regression using statsmodels (statsmodels.api).  What data split from question 1d should you include for the training? Why?<br>"
      ]
    },
    {
      "cell_type": "code",
      "execution_count": 13,
      "metadata": {
        "application/vnd.databricks.v1+cell": {
          "inputWidgets": {},
          "nuid": "286b2772-1d5a-4b94-8775-f1cbe52e75de",
          "showTitle": false,
          "title": ""
        },
        "colab": {
          "base_uri": "https://localhost:8080/"
        },
        "id": "anehh7mtK4nS",
        "outputId": "d4c13834-2078-4a41-c19b-133871929845"
      },
      "outputs": [
        {
          "output_type": "stream",
          "name": "stdout",
          "text": [
            "Optimization terminated successfully.\n",
            "         Current function value: 0.130311\n",
            "         Iterations 8\n"
          ]
        }
      ],
      "source": [
        "model = sm.Logit(y_train, X_train).fit()\n",
        "\n",
        "# For building a Logistic Regression using statsmodels, we should use the training data split from question 1d. This is because we need to train the model using the training data and then evaluate the performance of the model on the testing data. This will give us an idea of how well the model will generalize to new data.\n"
      ]
    },
    {
      "cell_type": "markdown",
      "metadata": {
        "id": "HFgjwJGIK4nS"
      },
      "source": [
        "&nbsp;&nbsp;&nbsp;&nbsp;&nbsp;&nbsp;**b.**  Using the Model Summary answer the following questions <br>\n",
        "You can provide your answer as a comment (`# Anything following a hash mark is a comment`) or in any other manner you like."
      ]
    },
    {
      "cell_type": "markdown",
      "metadata": {
        "id": "iklV8NtOK4nS"
      },
      "source": [
        "\n",
        "&nbsp;&nbsp;&nbsp;&nbsp;&nbsp;&nbsp;&nbsp;&nbsp;&nbsp;&nbsp;&nbsp;&nbsp;**i.** **(`2 pts`)** which variables have a statistically significant positive correlation with the target\n",
        "<br>"
      ]
    },
    {
      "cell_type": "code",
      "execution_count": 15,
      "metadata": {
        "colab": {
          "base_uri": "https://localhost:8080/"
        },
        "id": "sSjJEVB4K4nS",
        "outputId": "8921b614-4429-4656-a8a0-d60ec22b0c34"
      },
      "outputs": [
        {
          "output_type": "stream",
          "name": "stdout",
          "text": [
            "                           Logit Regression Results                           \n",
            "==============================================================================\n",
            "Dep. Variable:             Conversion   No. Observations:                38632\n",
            "Model:                          Logit   Df Residuals:                    38624\n",
            "Method:                           MLE   Df Model:                            7\n",
            "Date:                Wed, 05 Apr 2023   Pseudo R-squ.:                  0.1396\n",
            "Time:                        20:56:58   Log-Likelihood:                -5034.2\n",
            "converged:                       True   LL-Null:                       -5850.7\n",
            "Covariance Type:            nonrobust   LLR p-value:                     0.000\n",
            "=============================================================================================\n",
            "                                coef    std err          z      P>|z|      [0.025      0.975]\n",
            "---------------------------------------------------------------------------------------------\n",
            "const                        -1.1668      0.147     -7.951      0.000      -1.454      -0.879\n",
            "Subject_Hotness_Score         0.1180      0.064      1.843      0.065      -0.008       0.244\n",
            "Total_Past_Communications     0.0607      0.003     17.377      0.000       0.054       0.068\n",
            "Word_Count                 2.622e-05      0.000      0.196      0.844      -0.000       0.000\n",
            "Total_Links                   0.0229      0.007      3.119      0.002       0.008       0.037\n",
            "Total_Images                 -0.0047      0.008     -0.579      0.563      -0.021       0.011\n",
            "Campaign_2                   -5.2454      0.210    -25.029      0.000      -5.656      -4.835\n",
            "Campaign_3                   -3.9877      0.196    -20.329      0.000      -4.372      -3.603\n",
            "=============================================================================================\n"
          ]
        }
      ],
      "source": [
        "print(model.summary())\n",
        "# The variables Total_Past_Communications, Total_Links, Campaign_2 and Campaign_3 have statistically significant positive correlation with the target."
      ]
    },
    {
      "cell_type": "markdown",
      "metadata": {
        "id": "eYGPdIwoK4nS"
      },
      "source": [
        "&nbsp;&nbsp;&nbsp;&nbsp;&nbsp;&nbsp;&nbsp;&nbsp;&nbsp;&nbsp;&nbsp;&nbsp;**ii.** **(`2 pts`)**\n",
        "which variables have a statistically significant negative correlation with the target?"
      ]
    },
    {
      "cell_type": "code",
      "execution_count": null,
      "metadata": {
        "id": "_caIfx2wK4nS"
      },
      "outputs": [],
      "source": [
        "# None of the variables have statistically significant negative correlation with the target."
      ]
    },
    {
      "cell_type": "markdown",
      "metadata": {
        "id": "w9Jlh2S4K4nS"
      },
      "source": [
        "&nbsp;&nbsp;&nbsp;&nbsp;&nbsp;&nbsp;&nbsp;&nbsp;&nbsp;&nbsp;&nbsp;&nbsp;**iii.** **(`2 pts`)**\n",
        "What does it mean for a variable to be statistically significant?"
      ]
    },
    {
      "cell_type": "code",
      "execution_count": null,
      "metadata": {
        "id": "op-UGhr3K4nS"
      },
      "outputs": [],
      "source": [
        "#  A variable is statistically significant if it has a p-value less than the chosen significance level (usually 0.05). This means that there is sufficient evidence to reject the null hypothesis that the variable has no effect on the target."
      ]
    },
    {
      "cell_type": "markdown",
      "metadata": {
        "id": "qqkuenaIK4nS"
      },
      "source": [
        "&nbsp;&nbsp;&nbsp;&nbsp;&nbsp;&nbsp;&nbsp;&nbsp;&nbsp;&nbsp;&nbsp;&nbsp;**iv.** **(`4 pts`)**\n",
        "What suggestions can you make based on these results? "
      ]
    },
    {
      "cell_type": "code",
      "execution_count": null,
      "metadata": {
        "id": "j7OAGp-SK4nT"
      },
      "outputs": [],
      "source": [
        "# Based on these results, we can suggest that variables like Total_Past_Communications, Total_Links, Campaign_2 and Campaign_3 are important predictors of the target and should be given more weight in the model. We can also suggest removing variables like Word_Count and Total_Images, which do not have a statistically significant effect on the target.\n"
      ]
    },
    {
      "cell_type": "markdown",
      "metadata": {
        "id": "hLhqui4HK4nT"
      },
      "source": [
        "&nbsp;&nbsp;&nbsp;&nbsp;&nbsp;&nbsp;**c.** **(`5 pts`)** Use your model to get predictions for the test data. <br>\n",
        "Get predictions by applying the model you just fit to the _test_ data.  Save the predictions to a variable.<br>"
      ]
    },
    {
      "cell_type": "code",
      "execution_count": 18,
      "metadata": {
        "id": "jKoLKajLK4nT"
      },
      "outputs": [],
      "source": [
        "y_pred = model.predict(X_test)"
      ]
    },
    {
      "cell_type": "markdown",
      "metadata": {
        "id": "Q6GqLS1OK4nT"
      },
      "source": [
        "&nbsp;&nbsp;&nbsp;&nbsp;&nbsp;&nbsp;**d.**  **(`5 pts`)** The ROC AUC score informs you as to how good your model is at telling which emails are more likely to result in conversions than others. Use the function within Scikit-Learn to plot this.<br>\n",
        "Describe how you would expect the curve to change for a more performant model."
      ]
    },
    {
      "cell_type": "code",
      "execution_count": 20,
      "metadata": {
        "colab": {
          "base_uri": "https://localhost:8080/",
          "height": 472
        },
        "id": "vT4V0LBzK4nT",
        "outputId": "abc692b0-587f-439d-afe8-718fdf90441c"
      },
      "outputs": [
        {
          "output_type": "display_data",
          "data": {
            "text/plain": [
              "<Figure size 640x480 with 1 Axes>"
            ],
            "image/png": "[encoded data removed]"
          },
          "metadata": {}
        }
      ],
      "source": [
        "from sklearn.metrics import roc_curve, roc_auc_score\n",
        "fpr, tpr, thresholds = roc_curve(y_test, y_pred)\n",
        "roc_auc = roc_auc_score(y_test, y_pred)\n",
        "\n",
        "plt.plot(fpr, tpr)\n",
        "plt.plot([0, 1], [0, 1], linestyle='--')\n",
        "plt.xlabel('False Positive Rate')\n",
        "plt.ylabel('True Positive Rate')\n",
        "plt.title('ROC Curve (AUC = {:.2f})'.format(roc_auc))\n",
        "plt.show()\n"
      ]
    }
  ],
  "metadata": {
    "application/vnd.databricks.v1+notebook": {
      "dashboards": [],
      "language": "python",
      "notebookName": "coding challenge",
      "notebookOrigID": 3716877220258601,
      "widgets": {}
    },
    "kernelspec": {
      "display_name": "Python 3 (ipykernel)",
      "language": "python",
      "name": "python3"
    },
    "language_info": {
      "codemirror_mode": {
        "name": "ipython",
        "version": 3
      },
      "file_extension": ".py",
      "mimetype": "text/x-python",
      "name": "python",
      "nbconvert_exporter": "python",
      "pygments_lexer": "ipython3",
      "version": "3.6.13"
    },
    "colab": {
      "provenance": []
    }
  },
  "nbformat": 4,
  "nbformat_minor": 0
}
